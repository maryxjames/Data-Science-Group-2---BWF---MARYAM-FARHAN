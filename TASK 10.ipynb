{
 "cells": [
  {
   "cell_type": "markdown",
   "id": "fa670e43-8898-4a5e-97f9-57f3fd541636",
   "metadata": {},
   "source": [
    "# INTRO TO NUMPY"
   ]
  },
  {
   "cell_type": "code",
   "execution_count": 2,
   "id": "7be62eff-677a-4166-b349-41c3b66f0074",
   "metadata": {},
   "outputs": [],
   "source": [
    "import numpy as np"
   ]
  },
  {
   "cell_type": "markdown",
   "id": "94d54133-4e6a-4dc7-b4fe-073922930c67",
   "metadata": {},
   "source": [
    "numpy= numerical python\n",
    "\n",
    "ndarray= n dimensional array"
   ]
  },
  {
   "cell_type": "code",
   "execution_count": 7,
   "id": "b99415b0-ff0e-4309-9bcb-9c795a3743ed",
   "metadata": {},
   "outputs": [
    {
     "name": "stdout",
     "output_type": "stream",
     "text": [
      "[0 1 2 3 4 5 6 7 8 9]\n"
     ]
    },
    {
     "data": {
      "text/plain": [
       "numpy.int64"
      ]
     },
     "execution_count": 7,
     "metadata": {},
     "output_type": "execute_result"
    }
   ],
   "source": [
    "np1=np.array([0,1,2,3,4,5,6,7,8,9])\n",
    "print(np1)\n",
    "type(np1)\n",
    "type(np1[1])"
   ]
  },
  {
   "cell_type": "code",
   "execution_count": 8,
   "id": "d3bff93f-75b1-42df-a11e-971bb02d372b",
   "metadata": {},
   "outputs": [
    {
     "data": {
      "text/plain": [
       "(10,)"
      ]
     },
     "execution_count": 8,
     "metadata": {},
     "output_type": "execute_result"
    }
   ],
   "source": [
    "np1.shape# list down all the elements"
   ]
  },
  {
   "cell_type": "code",
   "execution_count": 17,
   "id": "5f238c29-0483-4779-90d1-7cf6c4c6f512",
   "metadata": {},
   "outputs": [
    {
     "name": "stdout",
     "output_type": "stream",
     "text": [
      "[0 1 2 3 4 5 6 7 8 9]\n",
      "the even number are: \n",
      "[0 2 4 6 8]\n",
      "odd numbers are: \n",
      "[ 1  3  5  7  9 11 13 15 17 19]\n"
     ]
    }
   ],
   "source": [
    "# step\n",
    "np2=np.arange(10)\n",
    "print(np2)\n",
    "\n",
    "\n",
    "\n",
    "np3=np.arange(0,10,2)\n",
    "print(\"the even number are: \")\n",
    "print(np3)\n",
    "\n",
    "np4=np.arange(1,20,2)\n",
    "print(\"odd numbers are: \")\n",
    "print(np4)"
   ]
  },
  {
   "cell_type": "code",
   "execution_count": 20,
   "id": "57ad0371-6e8f-4969-abaa-3ab270cdfb7d",
   "metadata": {},
   "outputs": [
    {
     "name": "stdout",
     "output_type": "stream",
     "text": [
      "[0. 0. 0. 0. 0. 0. 0. 0. 0. 0.]\n"
     ]
    },
    {
     "data": {
      "text/plain": [
       "numpy.float64"
      ]
     },
     "execution_count": 20,
     "metadata": {},
     "output_type": "execute_result"
    }
   ],
   "source": [
    "np5=np.zeros(10)\n",
    "print(np5)\n",
    "type(np5[0])\n"
   ]
  },
  {
   "cell_type": "code",
   "execution_count": 21,
   "id": "70324f55-d1e0-4c77-9aeb-8a04887c7e04",
   "metadata": {},
   "outputs": [
    {
     "name": "stdout",
     "output_type": "stream",
     "text": [
      "[[0. 0. 0. 0. 0. 0. 0. 0. 0. 0.]\n",
      " [0. 0. 0. 0. 0. 0. 0. 0. 0. 0.]]\n"
     ]
    }
   ],
   "source": [
    "# MULTIDIMENTIONAL ZEROS\n",
    "np6=np.zeros((2,10)) # ((2: dimensions, 10: elements in each dimesnions))\n",
    "print(np6)"
   ]
  },
  {
   "cell_type": "code",
   "execution_count": 33,
   "id": "f7578963-dbb8-4e7b-a6ec-98829d81079e",
   "metadata": {},
   "outputs": [
    {
     "name": "stdout",
     "output_type": "stream",
     "text": [
      "[[ 9  3 12  1 11 18 19  3  9 15 17  3  3  7  6 16 12 12 13 10 10]\n",
      " [ 9  3 12  1 11 18 19  3  9 15 17  3  3  7  6 16 12 12 13 10 10]]\n"
     ]
    }
   ],
   "source": [
    "np8=np.random.randint(1,21,21)\n",
    "# random.randint(1:inclusive, 21:exclusive, 21 size)\n",
    "np7=np.full((2,21), np8)\n",
    "print(np7)\n"
   ]
  },
  {
   "cell_type": "code",
   "execution_count": 43,
   "id": "1bd0500e-f9d1-49ad-b696-30935f991644",
   "metadata": {},
   "outputs": [
    {
     "name": "stdout",
     "output_type": "stream",
     "text": [
      "some elements are odd as well\n",
      "[19 15  3 12 12  4 14  8  5 10]\n",
      "[7 3 7 7 9]\n"
     ]
    }
   ],
   "source": [
    "np9=np.random.randint(1,20,10)\n",
    "if np.all(np9 % 2 == 0):\n",
    "    np10=np.full((2,10),np9)\n",
    "    print(np10)\n",
    "else:\n",
    "    print(\"some elements are odd as well\")\n",
    "    print(np9)\n",
    "\n",
    "z=np.random.randint(1,10,5)\n",
    "if np.all( z % 5 ==0):\n",
    "    print(z)\n",
    "else:\n",
    "    (\"some are not the multipes of 5\")\n",
    "    print(z)\n",
    "\n",
    "\n"
   ]
  },
  {
   "cell_type": "code",
   "execution_count": 46,
   "id": "6f602a36-d9c1-4d4f-b08b-c659f06cd376",
   "metadata": {},
   "outputs": [
    {
     "name": "stdout",
     "output_type": "stream",
     "text": [
      "[ 1  7 12 15 18 78 36 39]\n"
     ]
    }
   ],
   "source": [
    "y=np.arange(1,16,2)\n",
    "x=np.array([0,4,7,8,9,67,23,24])\n",
    "print(x+y)"
   ]
  },
  {
   "cell_type": "code",
   "execution_count": 62,
   "id": "62ef9f23-b277-448a-932a-24330aacc71b",
   "metadata": {},
   "outputs": [
    {
     "name": "stdout",
     "output_type": "stream",
     "text": [
      "[[1 2 3]\n",
      " [1 2 3]]\n"
     ]
    }
   ],
   "source": [
    "# Generate a 3x2 array of random integers between 1 and 20\n",
    "v=np.matrix([[1,2,3],[1,2,3]])\n",
    "print(v)"
   ]
  },
  {
   "cell_type": "code",
   "execution_count": 215,
   "id": "1395c60a-1cd5-43f4-8409-6a97935be892",
   "metadata": {},
   "outputs": [
    {
     "name": "stdout",
     "output_type": "stream",
     "text": [
      "[[12 16  1]\n",
      " [ 5  5 20]\n",
      " [10  4 13]]\n",
      "[[15 22 12]\n",
      " [49 45 37]]\n",
      "the product is: \n",
      "[[169 400  64]\n",
      " [169 400  64]]\n"
     ]
    }
   ],
   "source": [
    "w=np.random.randint(1,21,(3,3))\n",
    "m=np.random.randint(10,51,(2,3))\n",
    "print(w)\n",
    "print(m)\n",
    "# product of 2d arrays\n",
    "print(\"the product is: \") \n",
    "product= matrix1*matrix2\n",
    "print(product)\n",
    "\n"
   ]
  },
  {
   "cell_type": "code",
   "execution_count": 73,
   "id": "f7a4555a-4968-40f8-bec1-eea46c3a5f84",
   "metadata": {},
   "outputs": [
    {
     "name": "stdout",
     "output_type": "stream",
     "text": [
      "[[[1 1]\n",
      "  [1 1]\n",
      "  [1 1]]]\n",
      "[[1 1 1]\n",
      " [1 1 1]\n",
      " [1 1 1]]\n",
      "[[1 1 1 1]\n",
      " [1 1 1 1]\n",
      " [1 1 1 1]]\n"
     ]
    }
   ],
   "source": [
    "#Create a 3D NumPy array with dimensions (2, 3, 4) filled with ones.\n",
    "result=np.array([[[1,1],[1,1],[1,1]]])\n",
    "print(result)\n",
    "\n",
    "result2=np.full((3,3),1)\n",
    "print(result2)\n",
    "\n",
    "result3=np.full((3,4),1)\n",
    "print(result3)\n",
    "\n"
   ]
  },
  {
   "cell_type": "code",
   "execution_count": 87,
   "id": "08ebdacf-5be1-49b1-a49c-eefcb92654a1",
   "metadata": {},
   "outputs": [
    {
     "name": "stdout",
     "output_type": "stream",
     "text": [
      "[[ 37  47  45]\n",
      " [ 88 119 112]]\n"
     ]
    }
   ],
   "source": [
    "#dot multiplication of matrices\n",
    "# the number of rows must match with the number of colums\n",
    "var=np.array([[1,4,5],[6,7,8]])\n",
    "var2=np.array([[6,9,8],[4,7,8],[3,2,1]])\n",
    "result4= np.dot(var,var2)\n",
    "print(result4)\n",
    "\n"
   ]
  },
  {
   "cell_type": "code",
   "execution_count": 88,
   "id": "2c63a9ec-b955-48ac-8535-ac4f08b5ebb1",
   "metadata": {},
   "outputs": [
    {
     "name": "stdout",
     "output_type": "stream",
     "text": [
      "dot multiplication is possible\n",
      "[[ 37  47]\n",
      " [ 88 119]]\n"
     ]
    }
   ],
   "source": [
    "var=np.array([[1,4,5],[6,7,8]])#2by 3\n",
    "var2=np.array([[6,9],[4,7],[3,2]])# 3 by 3\n",
    "rows_var=var.shape[0]\n",
    "colums_var2=var2.shape[1]\n",
    "if rows_var==colums_var2:\n",
    "    print('dot multiplication is possible')\n",
    "    result4= np.dot(var,var2)\n",
    "    print(result4)\n",
    "\n",
    "else:\n",
    "    print(\"sorry, not possible\")"
   ]
  },
  {
   "cell_type": "code",
   "execution_count": 202,
   "id": "b6608272-ca15-4e62-a593-4faed9bcb5bf",
   "metadata": {},
   "outputs": [
    {
     "name": "stdout",
     "output_type": "stream",
     "text": [
      "[ 0  2  4  6  8 10 12 14 16 18 20 22 24]\n",
      "(13,)\n",
      "0\n",
      "2\n",
      "4\n",
      "6\n",
      "8\n",
      "10\n",
      "12\n",
      "14\n",
      "16\n",
      "18\n",
      "20\n",
      "22\n",
      "24\n",
      "the sum is: 156\n",
      "13\n",
      "the mean is : 12.0\n",
      "6\n",
      "12\n",
      "7.483314773547883\n"
     ]
    }
   ],
   "source": [
    "#Calculate the mean, median, and standard deviation of a 1D array.\n",
    "array1=np.arange(0,25,2)\n",
    "print(array1)\n",
    "fx=np.shape(array1)\n",
    "print(fx)\n",
    "sum=0\n",
    "n=0\n",
    "for x in array1:\n",
    "    \n",
    "    sum=sum+x\n",
    "    n=n+1\n",
    "    print (x)\n",
    "print(\"the sum is: \"\n",
    "      +str(sum))\n",
    "print(n)\n",
    "mean=sum/n\n",
    "print(\"the mean is : \" + str(mean))\n",
    "\n",
    "#median\n",
    "\n",
    "if (n % 2 ==0):# will do floor division giving the ans 6 # %modulus function\n",
    "    pos=int(n//2)\n",
    "    upperbound=pos+1\n",
    "    lowerbound=pos\n",
    "    value=int((array1[upperbound]+array1[lowerbound])/2)\n",
    "    print(value)\n",
    "        \n",
    "elif (n%2 != 0):\n",
    "    pos=int((n)//2)\n",
    "    \n",
    "    print(pos)\n",
    "    print(array1[pos])\n",
    "\n",
    "# standard deviation = efx^2/ef -x^2\n",
    "\n",
    "variance = np.sum((array1 - mean)**2) / n\n",
    "          \n",
    "print(np.sqrt(variance))\n",
    "\n",
    "        \n",
    "\n",
    "\n",
    "\n",
    "    \n"
   ]
  },
  {
   "cell_type": "code",
   "execution_count": 211,
   "id": "9ac41959-dedf-40cb-b68b-9c645aacd992",
   "metadata": {
    "scrolled": true
   },
   "outputs": [
    {
     "name": "stdout",
     "output_type": "stream",
     "text": [
      "[[ 4  2  7  7 15 19  3 16  1  5]\n",
      " [15  8  2 11  3 10  1 10 10 16]]\n",
      "(10,)\n",
      "the max val is: 19\n",
      " the min val is: 1\n"
     ]
    }
   ],
   "source": [
    "#Find the maximum and minimum values in a 2D array.\n",
    "array4=np.random.randint(1,20,(2,10))\n",
    "\n",
    "print(array4)\n",
    "size=np.shape(array4[1])\n",
    "print(size)\n",
    "min=float(1000)\n",
    "max=float(0)\n",
    "columns=1\n",
    "for rows in array4:\n",
    "    for elements in rows:\n",
    "        if elements>max:\n",
    "            max=elements\n",
    "        if elements<min:\n",
    "            min=elements\n",
    "       \n",
    "            \n",
    "    \n",
    "       \n",
    "            \n",
    "print(\"the max val is: \" + str(max))\n",
    "print(\" the min val is: \" + str(min))"
   ]
  },
  {
   "cell_type": "code",
   "execution_count": 263,
   "id": "80c767ea-d30c-4425-8fc6-500fcd115739",
   "metadata": {},
   "outputs": [
    {
     "name": "stdout",
     "output_type": "stream",
     "text": [
      "the original array is: \n",
      "[170 454 283 571 116 302 378 616 613 835 442 971 563 121 795 628  75 909\n",
      "   3 206]\n",
      "we need another array which has a sd of 1 abd mean of 0\n",
      "[345 725 562 374 601 180 660 765 114 618 654 969   8 788 929 276 396 101\n",
      " 263 694]\n"
     ]
    }
   ],
   "source": [
    "#Generate an array of 1000 random numbers from a normal distribution with a mean of 0 and a standard deviation of\n",
    "num=np.random.randint(1,1000,20)\n",
    "print(\"the original array is: \")\n",
    "print(num)\n",
    "mean=np.sum(num)/np.size(num)\n",
    "variance=np.sum(num-mean)**2/np.size(num)\n",
    "s_d=np.sqrt(variance)\n",
    "if (mean==0) and  (s_d==1):\n",
    "    print(num)\n",
    "else:\n",
    "    print(\"we need another array which has a sd of 1 abd mean of 0\")\n",
    "    num=np.random.randint(1,1000,20)\n",
    "    print(num)\n",
    "    \n",
    "    \n"
   ]
  },
  {
   "cell_type": "code",
   "execution_count": 264,
   "id": "3be97761-0130-4f6e-aa5b-03bb63796b31",
   "metadata": {},
   "outputs": [
    {
     "name": "stdout",
     "output_type": "stream",
     "text": [
      "[[20 12 32 17]\n",
      " [31 30 13 10]\n",
      " [ 2 13 35 21]]\n"
     ]
    }
   ],
   "source": [
    "#Create a 2D array of shapes (5, 5) with random integers from a uniform distribution between 10 and 50.\n",
    "varray2=np.random.randint(10,51,size=(5,5))\n",
    "print(array2)\n"
   ]
  },
  {
   "cell_type": "code",
   "execution_count": 226,
   "id": "738d7882-d5e5-45bd-a322-86eab9d2056b",
   "metadata": {},
   "outputs": [
    {
     "name": "stdout",
     "output_type": "stream",
     "text": [
      "[ 1  2  3  4  5  6  7  8  9 10 11 12 13 14 15 16 17 18 19 20 21 22 23 24]\n",
      "the cumulative freq is: 1\n",
      "the cumulative freq is: 3\n",
      "the cumulative freq is: 6\n",
      "the cumulative freq is: 10\n",
      "the cumulative freq is: 15\n",
      "the cumulative freq is: 21\n",
      "the cumulative freq is: 28\n",
      "the cumulative freq is: 36\n",
      "the cumulative freq is: 45\n",
      "the cumulative freq is: 55\n",
      "the cumulative freq is: 66\n",
      "the cumulative freq is: 78\n",
      "the cumulative freq is: 91\n",
      "the cumulative freq is: 105\n",
      "the cumulative freq is: 120\n",
      "the cumulative freq is: 136\n",
      "the cumulative freq is: 153\n",
      "the cumulative freq is: 171\n",
      "the cumulative freq is: 190\n",
      "the cumulative freq is: 210\n",
      "the cumulative freq is: 231\n",
      "the cumulative freq is: 253\n",
      "the cumulative freq is: 276\n",
      "the cumulative freq is: 300\n"
     ]
    }
   ],
   "source": [
    "#Calculate the cumulative sum of a 1D array.\n",
    "array6=np.arange(1,25)\n",
    "print(array6)\n",
    "sum=0\n",
    "for x in array6:\n",
    "    sum=sum+x\n",
    "    print(\"the cumulative freq is: \" +str(sum))\n"
   ]
  },
  {
   "cell_type": "code",
   "execution_count": 265,
   "id": "f0182626-8e82-41cc-b810-9274b8e87e90",
   "metadata": {},
   "outputs": [
    {
     "name": "stdout",
     "output_type": "stream",
     "text": [
      "[[22 12 11 43]\n",
      " [ 4 21 11 23]\n",
      " [ 6 11 39  9]]\n",
      "[[42  3 21 11]\n",
      " [30 18  2 11]\n",
      " [29 32 16 28]]\n",
      "calculating means: \n",
      "17.666666666666668\n",
      "20.25\n",
      "calculating standard deviations: \n",
      "4.1023203976182695e-15\n",
      "8.948929172439195\n",
      "-37.83333333333333\n",
      "the correlation is: \n",
      "-1030561608279337.6\n"
     ]
    }
   ],
   "source": [
    "#Compute the correlation coefficient matrix of a 2D array.\n",
    "#A correlation coefficient is a number between -1 and 1 that tells you the strength and direction of a relationship between variables.\n",
    "\n",
    "# In other words, it reflects how similar the measurements of two or more variables are across a dataset.\n",
    "# r= Cov(X,Y)/sd(x)*sd(y)\n",
    "# ovariance (Cov): Measures how much two variables vary together. It's calculated as the average of the product of deviations of each data point from their respective means.\n",
    "\n",
    "array1=np.random.randint(1,50,(3,4))# the shapes of the two arrays should be same\n",
    "array2=np.random.randint(1,43,(3,4))\n",
    "\n",
    "mean1=np.sum(array1)/np.size(array1)\n",
    "mean2=np.sum(array2)/np.size(array2)\n",
    "\n",
    "variance1=(np.sum(array1-mean1)**2)/np.size(array1)\n",
    "sd1=np.sqrt(variance1)\n",
    "variance2=(np.sum(array2-mean1)**2)/np.size(array2)\n",
    "sd2=np.sqrt(variance2)\n",
    "\n",
    "#use chat gpt to understand this\n",
    "covariance = np.sum((array1 - mean1) * (array2 - mean2)) / np.size(array1)\n",
    "\n",
    "if sd1 == 0 or sd2 == 0:\n",
    "    correlation = np.nan  # Not a number\n",
    "else:\n",
    "    correlation = covariance / (sd1 * sd2)\n",
    "\n",
    "\n",
    "print(array1)\n",
    "print(array2)\n",
    "print(\"calculating means: \")\n",
    "print(mean1)\n",
    "print(mean2)\n",
    "print(\"calculating standard deviations: \")\n",
    "print(sd1)\n",
    "print(sd2)\n",
    "print(covariance)\n",
    "print(\"the correlation is: \")\n",
    "print(correlation)"
   ]
  },
  {
   "cell_type": "code",
   "execution_count": 258,
   "id": "63e7029e-f494-4d63-9fbb-b3446545473a",
   "metadata": {},
   "outputs": [
    {
     "name": "stdout",
     "output_type": "stream",
     "text": [
      "[1 2 3 4 5 6]\n",
      "the frequency of one is: 195\n",
      "the frequency of two is: 152\n",
      "the frequency of three is: 150\n",
      "the frequency of three is: 156\n",
      "the frequency of three is: 201\n"
     ]
    }
   ],
   "source": [
    "#Simulate rolling a six-sided die 1000 times and count the frequency of each outcome.\n",
    "dice=np.arange(1,7)\n",
    "print(dice)\n",
    "one=0\n",
    "two=0\n",
    "three=0\n",
    "four=0\n",
    "five=0\n",
    "\n",
    "for i in range(1000):\n",
    "    numbers=np.random.choice(dice)\n",
    "    if numbers==1:\n",
    "        one=one+1\n",
    "         \n",
    "    elif numbers==2:\n",
    "        two=two+1\n",
    "           \n",
    "    elif numbers==3:\n",
    "        three=three+1\n",
    "         \n",
    "    elif numbers==4:\n",
    "        four=four+1\n",
    "     \n",
    "    elif numbers==5:\n",
    "        five=five+1\n",
    "    \n",
    "        \n",
    "  \n",
    "            \n",
    "print(\"the frequency of one is: \" + str(one))\n",
    "print(\"the frequency of two is: \" + str(two))\n",
    "print(\"the frequency of three is: \" +str(three))\n",
    "print(\"the frequency of three is: \" +str(four))\n",
    "print(\"the frequency of three is: \" +str(five))"
   ]
  },
  {
   "cell_type": "code",
   "execution_count": null,
   "id": "103fb487-7970-42f5-82a5-7a21629bd693",
   "metadata": {},
   "outputs": [],
   "source": []
  }
 ],
 "metadata": {
  "kernelspec": {
   "display_name": "Python 3 (ipykernel)",
   "language": "python",
   "name": "python3"
  },
  "language_info": {
   "codemirror_mode": {
    "name": "ipython",
    "version": 3
   },
   "file_extension": ".py",
   "mimetype": "text/x-python",
   "name": "python",
   "nbconvert_exporter": "python",
   "pygments_lexer": "ipython3",
   "version": "3.12.4"
  }
 },
 "nbformat": 4,
 "nbformat_minor": 5
}
