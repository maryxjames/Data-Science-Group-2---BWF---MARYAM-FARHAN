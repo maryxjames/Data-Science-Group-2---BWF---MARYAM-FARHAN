{
 "cells": [
  {
   "cell_type": "markdown",
   "id": "759dbadc-1c69-42a6-9b50-adecd79e4c4e",
   "metadata": {},
   "source": [
    "# 🔴 Task 11: NumPy advanced operations (indexing, slicing, broadcasting)\n"
   ]
  },
  {
   "cell_type": "markdown",
   "id": "d46a5e22-02bf-43e3-9764-57cd81c146c8",
   "metadata": {},
   "source": [
    "## Indexing and Slicing\n",
    "\n"
   ]
  },
  {
   "cell_type": "code",
   "execution_count": 1,
   "id": "d1f3e7ce-a58d-43c3-b93a-c4720082ff9b",
   "metadata": {},
   "outputs": [],
   "source": [
    "import numpy as np"
   ]
  },
  {
   "cell_type": "code",
   "execution_count": 13,
   "id": "7e4c3aa5-0667-4bd1-bb48-142a3f5d0d42",
   "metadata": {},
   "outputs": [
    {
     "name": "stdout",
     "output_type": "stream",
     "text": [
      "[1 2 3 4 5 6 7 8]\n",
      "[3 4 5]\n",
      "[7 8]\n",
      "[4 5 6 7]\n",
      "[1 3 5]\n",
      "[2 5]\n"
     ]
    }
   ],
   "source": [
    "array1=np.arange(1,9)\n",
    "print(array1)\n",
    "print(array1[2:5])\n",
    "print(array1[6:])#6 not included\n",
    "print(array1[-5:-1])#not including the last thing\n",
    "print(array1[0:6:2])\n",
    "print(array1[1:7:3])\n"
   ]
  },
  {
   "cell_type": "code",
   "execution_count": 26,
   "id": "e2a6c7b1-c591-4089-8f46-f05f91ec7144",
   "metadata": {},
   "outputs": [
    {
     "name": "stdout",
     "output_type": "stream",
     "text": [
      "[[ 5 18 10 21 13]\n",
      " [ 2 21 23 24 19]\n",
      " [ 3 23 14 12  4]\n",
      " [15  2 19 15  5]\n",
      " [12  1 14  7  8]]\n",
      "4\n",
      "[[21 23 24]\n",
      " [23 14 12]\n",
      " [ 2 19 15]]\n"
     ]
    }
   ],
   "source": [
    "# Given a 2D array of shape (5, 5), extract a 3x3 sub-array starting from the element at position (1, 1).\n",
    "array1=np.random.randint(1,25,(5,5))\n",
    "print(array1)\n",
    "print(array1[2,4])# row second, item 4\n",
    "print(array1[1:4,1:4])# starting from  row to row 3 and , strating 1:1 to 3,4\n",
    "\n",
    "\n",
    "\n",
    "\n"
   ]
  },
  {
   "cell_type": "code",
   "execution_count": 53,
   "id": "b0f1263e-6fdf-4b7f-8749-6f1f16017e4a",
   "metadata": {},
   "outputs": [
    {
     "name": "stdout",
     "output_type": "stream",
     "text": [
      "[[[3 6]\n",
      "  [1 9]\n",
      "  [5 1]]\n",
      "\n",
      " [[1 1]\n",
      "  [7 9]\n",
      "  [3 9]]\n",
      "\n",
      " [[7 1]\n",
      "  [4 2]\n",
      "  [9 6]]\n",
      "\n",
      " [[2 8]\n",
      "  [1 4]\n",
      "  [4 4]]]\n",
      "slicing\n",
      "[[[6]\n",
      "  [9]\n",
      "  [1]]\n",
      "\n",
      " [[1]\n",
      "  [9]\n",
      "  [9]]]\n"
     ]
    }
   ],
   "source": [
    "#From a 3D array of shape (4, 3, 2), extract all elements in the first two rows and all columns of the second slice along the third axis.\n",
    "array1=np.random.randint(1,10,(4,3,2))\n",
    "print(array1)\n",
    "print(\"slicing\")\n",
    "rows=array1[0:2,0:3,1:2]\n",
    "print(rows)\n"
   ]
  },
  {
   "cell_type": "code",
   "execution_count": 67,
   "id": "b96edf71-7117-40bd-b3e6-bec89d26e94a",
   "metadata": {},
   "outputs": [
    {
     "name": "stdout",
     "output_type": "stream",
     "text": [
      "[ 1  2  3  4  5  6  7  8  9 10 11 12 13 14 15 16 17 18 19 20 21 22 23 24]\n",
      "2\n",
      "4\n",
      "5\n",
      "8\n",
      "[2 4 6 8]\n",
      "[ 2  4  6  8 10 12 14 16 18]\n",
      "[2 4 5 8]\n"
     ]
    }
   ],
   "source": [
    "#Given an array of integers, use fancy indexing to extract elements at positions [1, 3, 4, 7].\n",
    "array=np.arange(1,25)\n",
    "print(array)\n",
    "print(array[1])\n",
    "print(array[3])\n",
    "print(array[4])\n",
    "print(array[7])\n",
    "print(array[1:9:2])\n",
    "print(array[1:19:2])\n",
    "\n",
    "positions=[1,3,4,7]\n",
    "print(array[positions])"
   ]
  },
  {
   "cell_type": "code",
   "execution_count": 100,
   "id": "67a1559a-6704-4348-b790-56d32eefcdbd",
   "metadata": {},
   "outputs": [
    {
     "name": "stdout",
     "output_type": "stream",
     "text": [
      "[[13 26 18 13 27 17]\n",
      " [ 6 22  2 25 11 21]\n",
      " [13 20  4 26 16 11]\n",
      " [14 16 13 27 16 22]\n",
      " [10 11  1  8  3 11]]\n",
      "[[26 18 13]\n",
      " [22  2 25]\n",
      " [20  4 26]\n",
      " [16 13 27]]\n",
      "[[26 13]\n",
      " [22 25]\n",
      " [20 26]\n",
      " [16 27]]\n",
      "[[26 13]\n",
      " [20 26]\n",
      " [16 27]]\n",
      "Given a 2D array, use fancy indexing to select rows [0, 2, 3] and columns [1, 3].\n",
      "[[26 13]\n",
      " [20 26]\n",
      " [16 27]]\n"
     ]
    }
   ],
   "source": [
    "#Given a 2D array, use fancy indexing to select rows [0, 2, 3] and columns [1, 3].\n",
    "array=np.random.randint(1,30,(5,6))\n",
    "print(array)\n",
    "array2=(array[0:4,1:4])\n",
    "print(array2)\n",
    "array3=(array2[0:4,0:4:2])\n",
    "print(array3)\n",
    "\n",
    "\n",
    "rows=[0,2,3]\n",
    "columns=[1,3]\n",
    "print(array3[np.ix_(rows)])\n",
    "print(\"Given a 2D array, use fancy indexing to select rows [0, 2, 3] and columns [1, 3].\")\n",
    "print(array[np.ix_(rows,columns)])\n",
    "\n",
    "\n"
   ]
  },
  {
   "cell_type": "code",
   "execution_count": 105,
   "id": "0fa414a9-8bfa-4d0e-8729-1ca1ed72a8eb",
   "metadata": {},
   "outputs": [
    {
     "name": "stdout",
     "output_type": "stream",
     "text": [
      "[[37  6  3 34  9]\n",
      " [24 31 39 10 22]\n",
      " [12 30 15 21 28]]\n",
      "[37, 34, 24, 31, 39, 22, 12, 30, 15, 21, 28]\n"
     ]
    }
   ],
   "source": [
    "#From a 1D array of random integers, extract all elements that are greater than 10.\n",
    "array=np.random.randint(0,40,(3,5))\n",
    "print(array)\n",
    "list1=[]\n",
    "for rows in array:\n",
    "    for columns in rows:\n",
    "        if columns>10:\n",
    "            list1.append(int(columns))\n",
    "print(list1)"
   ]
  },
  {
   "cell_type": "code",
   "execution_count": 125,
   "id": "2b7a9f1a-bb3a-4b29-b802-42990c068353",
   "metadata": {},
   "outputs": [
    {
     "name": "stdout",
     "output_type": "stream",
     "text": [
      "[[11  7 18 19 15]\n",
      " [36 31 29 19 20]\n",
      " [10  8 30  2 25]\n",
      " [11 37 41  1 19]\n",
      " [39 12  5 20  8]]\n",
      "modified array: \n",
      "[[11  7  0  0 15]\n",
      " [ 0  0  0  0  0]\n",
      " [10  8  0  2  0]\n",
      " [11  0  0  1  0]\n",
      " [ 0 12  5  0  8]]\n"
     ]
    }
   ],
   "source": [
    "#Given a 2D array of shape (5, 5), replace all elements greater than 15 with the value 0.\n",
    "array=np.random.randint(0,45,(5,5))\n",
    "print(array)\n",
    "\n",
    "for rows in range(5):\n",
    "    for columns in range(5):\n",
    "        if array[rows,columns]>15:#need to get the reference of the index where that element is\n",
    "            array[rows,columns]=0\n",
    "print(\"modified array: \")\n",
    "print(array)\n",
    "        \n",
    "\n",
    "\n",
    "\n",
    "        \n"
   ]
  },
  {
   "cell_type": "markdown",
   "id": "a5d3e7a7-e5ca-4e3f-afdf-965681b2409c",
   "metadata": {},
   "source": [
    "## Broadcasting\n",
    "Broadcasting Rules:\n",
    "If the arrays do not have the same rank, prepend the shape of the smaller-rank array with ones until both shapes have the same length.\n",
    "The size of the output array is the maximum size along each dimension of the input arrays.\n",
    "Arrays are compatible for broadcasting if, for each dimension, the axis sizes either match or one of them is 1."
   ]
  },
  {
   "cell_type": "code",
   "execution_count": 128,
   "id": "13a0f63a-5070-4d20-918b-2194860e1118",
   "metadata": {},
   "outputs": [
    {
     "name": "stdout",
     "output_type": "stream",
     "text": [
      "[17 14  6]\n",
      "[[12 11 33]\n",
      " [ 8 12 23]\n",
      " [14 28 34]\n",
      " [27 23 28]]\n",
      "[[29 25 39]\n",
      " [25 26 29]\n",
      " [31 42 40]\n",
      " [44 37 34]]\n"
     ]
    }
   ],
   "source": [
    "#Add a 1D array of shape (3,) to each row of a 2D array of shape (4, 3).\n",
    "# for addition, both the shapes should be in the same dimension\n",
    "array1=np.random.randint(1,20,3)#1 by 3(contains one)\n",
    "array2=np.random.randint(1,35,(4,3))# 4 by 3\n",
    "print(array1)\n",
    "print(array2)\n",
    "print(array1+array2)\n"
   ]
  },
  {
   "cell_type": "code",
   "execution_count": 133,
   "id": "cb2ff7b6-0075-4784-b743-78b7d436bf09",
   "metadata": {},
   "outputs": [
    {
     "name": "stdout",
     "output_type": "stream",
     "text": [
      "[[18  2  4]\n",
      " [43 32 33]\n",
      " [46 23 15]]\n",
      "[31 43 11]\n",
      "[[ 558   86   44]\n",
      " [1333 1376  363]\n",
      " [1426  989  165]]\n"
     ]
    }
   ],
   "source": [
    "#Multiply a 2D array of shape (3, 3) by a 1D array of shape (3,).\n",
    "array=np.random.randint(1,50,(3,3))\n",
    "array1=np.random.randint(1,50,3)\n",
    "print(array)\n",
    "print(array1)\n",
    "print(array*array1)"
   ]
  },
  {
   "cell_type": "code",
   "execution_count": 136,
   "id": "87a1bd03-5c89-4b34-b67c-a1274928f37d",
   "metadata": {},
   "outputs": [
    {
     "name": "stdout",
     "output_type": "stream",
     "text": [
      "3D ARRAY: \n",
      "[[[17 29 24 19]\n",
      "  [19 23  5 10]\n",
      "  [12 21 26 12]]\n",
      "\n",
      " [[ 6 23 11  7]\n",
      "  [ 4 17 34 11]\n",
      "  [32 34  5 28]]]\n",
      "2D ARRAY: \n",
      "[[34 28 29 18]\n",
      " [ 6 30 27 40]\n",
      " [37 14 24 34]]\n",
      "THE RESULT IS: \n",
      "[[[51 57 53 37]\n",
      "  [25 53 32 50]\n",
      "  [49 35 50 46]]\n",
      "\n",
      " [[40 51 40 25]\n",
      "  [10 47 61 51]\n",
      "  [69 48 29 62]]]\n"
     ]
    }
   ],
   "source": [
    "#Given a 3D array of shape (2, 3, 4), add a 2D array of shape (3, 4) to each 2D slice along the first axis.\n",
    "array=np.random.randint(1,35,(2,3,4))\n",
    "print(\"3D ARRAY: \")\n",
    "print(array)\n",
    "array2=np.random.randint(1,50,(3,4))\n",
    "print(\"2D ARRAY: \")\n",
    "print(array2)\n",
    "print(\"THE RESULT IS: \")\n",
    "print(array+array2)"
   ]
  },
  {
   "cell_type": "markdown",
   "id": "94b1e050-42d6-4734-bfe3-0a8828772a37",
   "metadata": {},
   "source": [
    "### Some more\n"
   ]
  },
  {
   "cell_type": "code",
   "execution_count": 169,
   "id": "bd515fd5-b321-4e3d-8fcf-05aebedffe19",
   "metadata": {},
   "outputs": [
    {
     "name": "stdout",
     "output_type": "stream",
     "text": [
      "THE 2D ARRAY IS:\n",
      "[[30 58 64 23 39]\n",
      " [33 41 17 89 80]\n",
      " [21 92 29 61  4]\n",
      " [ 7 26 64 44 35]]\n",
      "THE 1D ARRAY IS: \n",
      "[23  5  8 77 35]\n",
      "every second row and every second col\n",
      "[[41 89]\n",
      " [26 44]]\n",
      "addition\n",
      "[ 67  49  52 121  79]\n"
     ]
    }
   ],
   "source": [
    "#Given a 2D array, use slicing to extract every second row and every second column, then add a 1D array to each row of the sliced array.\n",
    "array=np.random.randint(1,100,(4,5))\n",
    "print(\"THE 2D ARRAY IS:\" )\n",
    "print(array)\n",
    "array1=np.random.randint(1,100,(5))\n",
    "print(\"THE 1D ARRAY IS: \")\n",
    "print(array1)\n",
    "\n",
    "\n",
    "print(\"every second row and every second col\")\n",
    "print(array[1:4:2,1:4:2])\n",
    "array2=array[1:4:2,1:4:2]\n",
    "print(\"addition\")\n",
    "for row in array2:\n",
    "    for col in row:\n",
    "        add=col+array1\n",
    "print(add)\n",
    "        \n",
    "   \n",
    "\n",
    "\n"
   ]
  },
  {
   "cell_type": "code",
   "execution_count": 174,
   "id": "e1b16152-a841-4fc5-b110-3e54e442b297",
   "metadata": {},
   "outputs": [
    {
     "name": "stdout",
     "output_type": "stream",
     "text": [
      "3d array is: \n",
      "[[[29 41]\n",
      "  [ 2 31]\n",
      "  [23 17]]\n",
      "\n",
      " [[37 19]\n",
      "  [ 4 14]\n",
      "  [19 28]]\n",
      "\n",
      " [[24 40]\n",
      "  [20 19]\n",
      "  [15 44]]\n",
      "\n",
      " [[24 26]\n",
      "  [24 47]\n",
      "  [46 13]]]\n",
      "the sliced array\n",
      "[[[37 19]\n",
      "  [ 4 14]\n",
      "  [19 28]]]\n",
      "2d array is: \n",
      "the substraction result is: \n",
      "[[[ -4 -11]\n",
      "  [ 42  41]\n",
      "  [ 13 -10]]]\n"
     ]
    }
   ],
   "source": [
    "#From a 3D array of shape (4, 3, 2), extract a sub-array using slicing and then use broadcasting to subtract a 2D array from each slice along the third axis.\n",
    "array=np.random.randint(1,50,(4,3,2))\n",
    "print(\"3d array is: \")\n",
    "print(array)\n",
    "array2=array[1:2:3]\n",
    "print(\"the sliced array\")\n",
    "print(array2)\n",
    "print(\"2d array is: \")\n",
    "array5=np.random.randint(1,59,(3,2))\n",
    "print(\"the substraction result is: \")\n",
    "print(array5-array2)\n"
   ]
  },
  {
   "cell_type": "code",
   "execution_count": 222,
   "id": "94406509-0f3f-47ee-949b-024fd7fd3528",
   "metadata": {
    "scrolled": true
   },
   "outputs": [
    {
     "name": "stdout",
     "output_type": "stream",
     "text": [
      "2D array is: \n",
      "[[56 38 52 32  7]\n",
      " [44 34 28 13 14]\n",
      " [ 3 25 35  9 55]\n",
      " [33 55 13 57 56]\n",
      " [48 42  9 59  7]]\n",
      "(5, 5)\n",
      "[56 38 52 32  7]\n",
      "the diagnol elements are: \n",
      "[56, 34, 35, 57, 7]\n"
     ]
    }
   ],
   "source": [
    "#Given a 2D array, extract the diagonal elements and create a 1D array.\n",
    "print(\"2D array is: \")\n",
    "array1=np.random.randint(1,60,(5,5))\n",
    "print(array1)\n",
    "print(array1.shape)\n",
    "print(array1[0])\n",
    "array4=[]\n",
    "col=0\n",
    "rows=0\n",
    "\n",
    "for col in range(0,5,1):\n",
    "    number=array1[rows,col]\n",
    "    array4.append(int(str(number)))\n",
    "    rows+=1\n",
    "print(\"the diagnol elements are: \")\n",
    "print(array4)\n",
    "    "
   ]
  },
  {
   "cell_type": "code",
   "execution_count": 283,
   "id": "36a91db2-3054-4fd2-b033-1602c8fce04a",
   "metadata": {},
   "outputs": [
    {
     "name": "stdout",
     "output_type": "stream",
     "text": [
      "2D array is: \n",
      "[[37 11 40  2 20]\n",
      " [43 48 28 30 20]\n",
      " [25 23 24  5 34]]\n",
      "newarray\n",
      "[[20  2 40 11 37]\n",
      " [20 30 28 48 43]\n",
      " [34  5 24 23 25]]\n"
     ]
    }
   ],
   "source": [
    "#Use slicing to reverse the order of elements in each row of a 2D array.\n",
    "print(\"2D array is: \")\n",
    "array1=np.random.randint(1,60,(3,5))\n",
    "print(array1)\n",
    "index=0\n",
    "newarray=np.empty_like(array1)\n",
    "# reversed_row = array[0, ::-1]#(used chat gp to figure this out)\n",
    "for rows in array1:\n",
    "    newarray[index]=rows[::-1]\n",
    "    index+=1\n",
    "print(\"newarray\")\n",
    "print(newarray)\n",
    "    \n",
    "   \n",
    "    \n",
    "    \n",
    "    \n",
    "    \n",
    "   \n"
   ]
  },
  {
   "cell_type": "code",
   "execution_count": 307,
   "id": "4784d829-5b87-4cb9-a8ac-c5db2104992a",
   "metadata": {
    "scrolled": true
   },
   "outputs": [
    {
     "name": "stdout",
     "output_type": "stream",
     "text": [
      "3d array is: \n",
      "[[[36 39 12 24 44 45]\n",
      "  [34 43 26 48 17  8]\n",
      "  [25 42 33 47 12  8]\n",
      "  [ 8  7 11 27 32 14]\n",
      "  [26 39 47 16 36 18]]\n",
      "\n",
      " [[38 32 38 40 43 41]\n",
      "  [ 8 16 24 32 37 17]\n",
      "  [49 32 22 28 30  8]\n",
      "  [38  3  5 22 15  5]\n",
      "  [ 5 11 10 36 27 46]]\n",
      "\n",
      " [[ 4  6 47 33 34 32]\n",
      "  [39 49 24 24  5 17]\n",
      "  [ 3 29 33 16 36 29]\n",
      "  [26 40  2 44 37 14]\n",
      "  [ 1 37 17 32  6 11]]\n",
      "\n",
      " [[22 24 38 28 43 18]\n",
      "  [38  6  3 41  8 42]\n",
      "  [26 22 40 20 35 23]\n",
      "  [ 8 38 21  5  4 15]\n",
      "  [11 40  7 35 10 38]]]\n",
      "1D array is: \n",
      "[28 27 32 30]\n",
      "extracting a sub-array of shape (2, 3, 4) \n",
      "[[[43 26 48 17]\n",
      "  [42 33 47 12]\n",
      "  [ 7 11 27 32]]\n",
      "\n",
      " [[16 24 32 37]\n",
      "  [32 22 28 30]\n",
      "  [ 3  5 22 15]]]\n",
      "addition\n",
      "[[[71 53 80 47]\n",
      "  [70 60 79 42]\n",
      "  [35 38 59 62]]\n",
      "\n",
      " [[44 51 64 67]\n",
      "  [60 49 60 60]\n",
      "  [31 32 54 45]]]\n"
     ]
    }
   ],
   "source": [
    "#Given a 3D array of shape (4, 5, 6), use slicing to extract a sub-array of shape (2, 3, 4) and then use broadcasting to add a 1D array of shape (4,) to each row along the third axis.\n",
    "array=np.random.randint(1,50,(4,5,6))\n",
    "print(\"3d array is: \")\n",
    "print(array)\n",
    "array2=np.random.randint(1,64,4)\n",
    "print(\"1D array is: \")\n",
    "print(array2)\n",
    "#extracting\n",
    "print(\"extracting a sub-array of shape (2, 3, 4) \")\n",
    "new_array=array[0:2,1:4,1:5]\n",
    "\n",
    "print(new_array)\n",
    "print(\"addition\")\n",
    "print(new_array+array2)\n"
   ]
  },
  {
   "cell_type": "code",
   "execution_count": 338,
   "id": "cde8794e-3e87-405f-9248-3563f0efd39c",
   "metadata": {},
   "outputs": [
    {
     "name": "stdout",
     "output_type": "stream",
     "text": [
      "2D array is: \n",
      "[[44 35 39 54]\n",
      " [20 45 57 18]\n",
      " [53 36  7 14]\n",
      " [46 22  2 35]]\n",
      "the first two columns are\n",
      "[[44 35]\n",
      " [20 45]\n",
      " [53 36]\n",
      " [46 22]]\n",
      "[[44]\n",
      " [20]\n",
      " [53]\n",
      " [46]]\n",
      "[[35]\n",
      " [45]\n",
      " [36]\n",
      " [22]]\n",
      "adding these lists\n",
      "[[79]\n",
      " [65]\n",
      " [89]\n",
      " [68]]\n",
      "[[54]\n",
      " [18]\n",
      " [14]\n",
      " [35]]\n"
     ]
    }
   ],
   "source": [
    "#Create a 2D array and use both slicing and broadcasting to set the last column to the sum of the first two columns for each row.\n",
    "print(\"2D array is: \")\n",
    "array1=np.random.randint(1,60,(4,4))\n",
    "print(array1)\n",
    "\n",
    "#first two columns\n",
    "first=array1[0:5,0:2]\n",
    "print(\"the first two columns are\")\n",
    "print(first)\n",
    "\n",
    "list1=first[0:5,0:1]\n",
    "print(list1)\n",
    "list2=first[0:5,1:2]\n",
    "print(list2)\n",
    "\n",
    "print(\"adding these lists\")\n",
    "add=list1+list2\n",
    "print(add)\n",
    "\n",
    "\n",
    "last_col=array1[0:5,3:4]\n",
    "print(last_col)\n",
    "\n",
    "print(\"setting the last col to sum of the first two cols\")\n",
    "array1[0:5,3:4]=add\n",
    "\n",
    "print(arra\n",
    "\n",
    "\n",
    "\n",
    "        \n",
    "    "
   ]
  },
  {
   "cell_type": "code",
   "execution_count": 329,
   "id": "780495e0-8ac2-435d-b89b-549926edaeba",
   "metadata": {},
   "outputs": [
    {
     "name": "stdout",
     "output_type": "stream",
     "text": [
      "Original array:\n",
      "[[10 36 40 51]\n",
      " [56 34  7  1]\n",
      " [40 44 44 42]\n",
      " [42 56 53 46]]\n",
      "First two columns:\n",
      "[[10 36]\n",
      " [56 34]\n",
      " [40 44]\n",
      " [42 56]]\n",
      "Last column:\n",
      "[51  1 42 46]\n",
      "List 1 (first half of last column):\n",
      "[51  1 42 46]\n",
      "List 2 (second half of last column):\n",
      "[51  1 42 46]\n",
      "Element-wise addition of lists:\n",
      "[102   2  84  92]\n",
      "Modified array with updated last column:\n",
      "[[ 10  36  40 102]\n",
      " [ 56  34   7   2]\n",
      " [ 40  44  44  84]\n",
      " [ 42  56  53  92]]\n"
     ]
    }
   ],
   "source": [
    "import numpy as np\n",
    "\n",
    "# Generate a random 4x4 array\n",
    "array1 = np.random.randint(1, 60, (4, 4))\n",
    "print(\"Original array:\")\n",
    "print(array1)\n",
    "\n",
    "# Extracting first two columns\n",
    "first_two_columns = array1[:, 0:2]\n",
    "print(\"First two columns:\")\n",
    "print(first_two_columns)\n",
    "\n",
    "# Extracting last column\n",
    "last_column = array1[:, 3]\n",
    "print(\"Last column:\")\n",
    "print(last_column)\n",
    "\n",
    "# Splitting the last column into two lists\n",
    "list1 = last_column[0:4]\n",
    "list2 = last_column[0:4]\n",
    "print(\"List 1 (first half of last column):\")\n",
    "print(list1)\n",
    "print(\"List 2 (second half of last column):\")\n",
    "print(list2)\n",
    "\n",
    "# Perform element-wise addition (assuming you want to add corresponding elements of list1 and list2)\n",
    "add_list = list1 + list2\n",
    "print(\"Element-wise addition of lists:\")\n",
    "print(add_list)\n",
    "\n",
    "# Assigning the result back to the original array\n",
    "array1[:, 3] = add_list\n",
    "print(\"Modified array with updated last column:\")\n",
    "print(array1)\n"
   ]
  },
  {
   "cell_type": "code",
   "execution_count": null,
   "id": "01999857-879b-44cb-ada3-da5ea9dcc504",
   "metadata": {},
   "outputs": [],
   "source": []
  }
 ],
 "metadata": {
  "kernelspec": {
   "display_name": "Python 3 (ipykernel)",
   "language": "python",
   "name": "python3"
  },
  "language_info": {
   "codemirror_mode": {
    "name": "ipython",
    "version": 3
   },
   "file_extension": ".py",
   "mimetype": "text/x-python",
   "name": "python",
   "nbconvert_exporter": "python",
   "pygments_lexer": "ipython3",
   "version": "3.12.4"
  }
 },
 "nbformat": 4,
 "nbformat_minor": 5
}
