{
 "cells": [
  {
   "cell_type": "markdown",
   "id": "db3e8561-e633-4b84-8a42-01c780476a66",
   "metadata": {},
   "source": [
    "# 🔴 Task 21-> Linear algebra and calculus in NumPy"
   ]
  },
  {
   "cell_type": "code",
   "execution_count": 2,
   "id": "c8b56c87-f637-4bd8-9985-caba62445caf",
   "metadata": {},
   "outputs": [],
   "source": [
    "import pandas as pd\n",
    "import numpy as np\n",
    "import matplotlib.pyplot as plt\n",
    "import seaborn as sns"
   ]
  },
  {
   "cell_type": "markdown",
   "id": "6e3ba350-f8db-4c1c-88e3-72e9e8a9d613",
   "metadata": {},
   "source": [
    "# LINEAR ALGEBRA"
   ]
  },
  {
   "cell_type": "markdown",
   "id": "7abea153-00d0-45de-8361-8b0b2031bb72",
   "metadata": {},
   "source": [
    "Matrix Creation and Manipulation\n",
    "1. Create various types of matrices (zero matrix, identity matrix, random matrix).\n",
    "2. Perform basic matrix operations (addition, subtraction, multiplication).\n",
    "3Transpose a matrix and find the determinant and inverse of a matrix.\n"
   ]
  },
  {
   "cell_type": "code",
   "execution_count": 11,
   "id": "db1159ad-1926-4701-999e-69288eed4232",
   "metadata": {},
   "outputs": [
    {
     "name": "stdout",
     "output_type": "stream",
     "text": [
      "Zero Matrix:\n",
      " [[0. 0. 0.]\n",
      " [0. 0. 0.]\n",
      " [0. 0. 0.]]\n"
     ]
    }
   ],
   "source": [
    "zero_matrix = np.zeros((3, 3))\n",
    "print(\"Zero Matrix:\\n\", zero_matrix)"
   ]
  },
  {
   "cell_type": "code",
   "execution_count": 16,
   "id": "0b36bbb0-51fe-4c39-a8f1-7afa3695ea81",
   "metadata": {},
   "outputs": [
    {
     "name": "stdout",
     "output_type": "stream",
     "text": [
      "the zero matrix is : \n",
      " [[0. 0. 0. 0. 0.]\n",
      " [0. 0. 0. 0. 0.]\n",
      " [0. 0. 0. 0. 0.]\n",
      " [0. 0. 0. 0. 0.]]\n"
     ]
    }
   ],
   "source": [
    "matrix=np.zeros((4,5))\n",
    "print(\"the zero matrix is : \\n\" , matrix)"
   ]
  },
  {
   "cell_type": "code",
   "execution_count": 12,
   "id": "f3facf78-5228-4ecb-b881-60b345872d51",
   "metadata": {},
   "outputs": [
    {
     "name": "stdout",
     "output_type": "stream",
     "text": [
      "Identity Matrix:\n",
      " [[1. 0. 0. 0.]\n",
      " [0. 1. 0. 0.]\n",
      " [0. 0. 1. 0.]\n",
      " [0. 0. 0. 1.]]\n"
     ]
    }
   ],
   "source": [
    "identity_matrix = np.identity(4)\n",
    "print(\"Identity Matrix:\\n\", identity_matrix)"
   ]
  },
  {
   "cell_type": "code",
   "execution_count": 18,
   "id": "6db9bddd-107e-4574-9865-4aa27558986c",
   "metadata": {},
   "outputs": [
    {
     "name": "stdout",
     "output_type": "stream",
     "text": [
      "Identity Matrix:\n",
      " [[1. 0.]\n",
      " [0. 1.]]\n"
     ]
    }
   ],
   "source": [
    "identity_matrix = np.identity(2)\n",
    "print(\"Identity Matrix:\\n\", identity_matrix)"
   ]
  },
  {
   "cell_type": "code",
   "execution_count": 13,
   "id": "60f7ee2b-ecf1-496b-a8d2-3ccdd0c37d1f",
   "metadata": {},
   "outputs": [
    {
     "name": "stdout",
     "output_type": "stream",
     "text": [
      "Random Matrix:\n",
      " [[0.75661509 0.18897388 0.59382046]\n",
      " [0.21810818 0.72338066 0.65652811]]\n"
     ]
    }
   ],
   "source": [
    "random_matrix = np.random.rand(2, 3)\n",
    "print(\"Random Matrix:\\n\", random_matrix)"
   ]
  },
  {
   "cell_type": "code",
   "execution_count": 24,
   "id": "102ee8b6-1760-48ab-9be9-cf4f18ea3059",
   "metadata": {},
   "outputs": [
    {
     "name": "stdout",
     "output_type": "stream",
     "text": [
      "the addition is:\n",
      " [[0.99053955 1.45328882 1.37979111 0.93642447 0.79765742]\n",
      " [1.40144217 0.56174771 0.45646249 1.41191474 1.09729676]\n",
      " [1.32129626 1.00189455 0.21744203 0.95540946 0.62813532]\n",
      " [1.65691111 0.94719966 0.89866455 1.41678288 0.53189923]\n",
      " [0.44930945 1.34316814 1.01172636 0.55362971 1.61847837]]\n"
     ]
    }
   ],
   "source": [
    "#(they must have the same shape):\n",
    "array1 = np.random.rand(5,5)\n",
    "array2=np.random.rand(5,5)\n",
    "addition = array1 + array2\n",
    "print(\"the addition is:\\n\" , addition)\n",
    "\n"
   ]
  },
  {
   "cell_type": "code",
   "execution_count": 29,
   "id": "93b2f600-76b5-4b48-9d89-7d9d6fe31012",
   "metadata": {},
   "outputs": [
    {
     "name": "stdout",
     "output_type": "stream",
     "text": [
      "[[ 9 28 32 32 12]\n",
      " [13 24 11 20 21]\n",
      " [38 39 22 10 38]\n",
      " [41  5 41  6 35]]\n",
      "[[25 20 33 23  4]\n",
      " [36 19 46  9 24]\n",
      " [65 27 32 17 54]\n",
      " [ 3 51 43  8 19]]\n",
      "the addition is:\n",
      " [[ 34  48  65  55  16]\n",
      " [ 49  43  57  29  45]\n",
      " [103  66  54  27  92]\n",
      " [ 44  56  84  14  54]]\n"
     ]
    }
   ],
   "source": [
    "array1 = np.random.randint(1,45,(4,5))\n",
    "print(array1)\n",
    "array2=np.random.randint(2,66,(4,5))\n",
    "print(array2)\n",
    "addition = array1 + array2\n",
    "print(\"the addition is:\\n\" , addition)"
   ]
  },
  {
   "cell_type": "code",
   "execution_count": 33,
   "id": "b88b005a-6c60-459a-9e2a-0f7bde961cc9",
   "metadata": {},
   "outputs": [
    {
     "name": "stdout",
     "output_type": "stream",
     "text": [
      "Matrix Multiplication:\n",
      " [[213 327 179]\n",
      " [216 363 198]\n",
      " [414 510 282]]\n"
     ]
    }
   ],
   "source": [
    "a=np.random.randint(1,10,(3,2))\n",
    "b=np.random.randint(2,80,(2,3))\n",
    "\n",
    "product= np.dot(a,b)\n",
    "print(\"Matrix Multiplication:\\n\", product)"
   ]
  },
  {
   "cell_type": "code",
   "execution_count": 38,
   "id": "4af656aa-66fa-4c6f-aa10-0d9f16c3085e",
   "metadata": {},
   "outputs": [
    {
     "name": "stdout",
     "output_type": "stream",
     "text": [
      "the original matrix is:\n",
      " [[85 17 21 86 86]\n",
      " [71 40 14 88  5]\n",
      " [ 8  9  4 56 74]\n",
      " [16 76 85 64 31]]\n",
      "Transpose of Matrix E:\n",
      " [[85 71  8 16]\n",
      " [17 40  9 76]\n",
      " [21 14  4 85]\n",
      " [86 88 56 64]\n",
      " [86  5 74 31]]\n"
     ]
    }
   ],
   "source": [
    "#Original Matrix:\n",
    "#[[1 2 3]\n",
    "#[4 5 6]]\n",
    "#Transposed Matrix:\n",
    "#[[1 4]\n",
    "#[2 5]\n",
    "#[3 6]]\n",
    "\n",
    "\n",
    "matrix = np.random.randint(2,90,(4,5))\n",
    "print(\"the original matrix is:\\n\", matrix)\n",
    "\n",
    "# Transpose of matriz\n",
    "transpose_matrix = matrix.T\n",
    "print(\"Transpose of Matrix E:\\n\", transpose_matrix)"
   ]
  },
  {
   "cell_type": "code",
   "execution_count": 47,
   "id": "476c39f6-2374-41c0-aa83-429aa9cdd56d",
   "metadata": {},
   "outputs": [
    {
     "name": "stdout",
     "output_type": "stream",
     "text": [
      "the original matrix is:\n",
      " [[10 82 65]\n",
      " [66 49 57]\n",
      " [30 37 37]]\n",
      "the original matrix is:\n",
      " [[2 3]\n",
      " [4 5]]\n",
      "Determinant of Matrix : 196.00000000000497\n",
      "Determinant of Matrix 2 : -2.0\n",
      "Inverse of Matrix :\n",
      " [[ -1.51020408  -3.20918367   7.59693878]\n",
      " [ -3.73469388  -8.06122449  18.97959184]\n",
      " [  4.95918367  10.66326531 -25.1122449 ]]\n",
      "Inverse of Matrix 2 :\n",
      " [[-2.5  1.5]\n",
      " [ 2.  -1. ]]\n"
     ]
    }
   ],
   "source": [
    "matrix = np.random.randint(2,90,(3,3))\n",
    "matrix2=np.array([[2,3],[4,5]])\n",
    "print(\"the original matrix is:\\n\", matrix)\n",
    "print(\"the original matrix is:\\n\", matrix2)\n",
    "\n",
    "\n",
    "# Determinant of matrix \n",
    "determinant_matrix = np.linalg.det(matrix)\n",
    "print(\"Determinant of Matrix :\", determinant_matrix)\n",
    "determinant_matrix2 = np.linalg.det(matrix2)\n",
    "\n",
    "print(\"Determinant of Matrix 2 :\", determinant_matrix2)\n",
    "\n",
    "# Inverse of matrix \n",
    "inverse_matrix= np.linalg.inv(matrix)\n",
    "print(\"Inverse of Matrix :\\n\", inverse_matrix)\n",
    "\n",
    "inverse_matrix2= np.linalg.inv(matrix2)\n",
    "print(\"Inverse of Matrix 2 :\\n\", inverse_matrix2)"
   ]
  },
  {
   "cell_type": "markdown",
   "id": "10d00de3-11f5-4232-9ca9-1c24d094d6b6",
   "metadata": {},
   "source": [
    "Solving Linear Equations\n",
    "1. Use NumPy to solve a system of linear equations.\n",
    "2. Implement matrix factorization methods (LU decomposition, QR decomposition).\n"
   ]
  },
  {
   "cell_type": "code",
   "execution_count": 49,
   "id": "a3b12cc3-748e-45e8-ae6f-992c1ea9f402",
   "metadata": {},
   "outputs": [
    {
     "name": "stdout",
     "output_type": "stream",
     "text": [
      "Random Matrix A:\n",
      " [[27 21 31 11]\n",
      " [ 5 24 11  7]\n",
      " [23 26 17  4]\n",
      " [23 19 10 11]]\n",
      "Random Constants vector b:\n",
      " [2 6 7 9]\n",
      "the solution is :/n [ 0.18837867  0.33135529 -0.40077263  0.21629695]\n"
     ]
    }
   ],
   "source": [
    "matrix = np.random.randint(1, 35, size=(4, 4))\n",
    "print(\"Random Matrix A:\\n\", matrix)\n",
    "\n",
    "solutions = np.random.randint(1, 10, size=4)\n",
    "print(\"Random Constants vector b:\\n\", solutions)\n",
    "\n",
    "linear=np.linalg.solve(matrix, solutions)\n",
    "print(\"the solution is :/n\" , linear)\n"
   ]
  },
  {
   "cell_type": "code",
   "execution_count": 62,
   "id": "9499730c-6c40-4fa7-aa53-b6a80e370afe",
   "metadata": {},
   "outputs": [
    {
     "name": "stdout",
     "output_type": "stream",
     "text": [
      "[[ 2  1 -1]\n",
      " [-3 -1  2]\n",
      " [-2  1  2]]\n"
     ]
    },
    {
     "ename": "AttributeError",
     "evalue": "module 'numpy.linalg' has no attribute 'lu'",
     "output_type": "error",
     "traceback": [
      "\u001b[1;31m---------------------------------------------------------------------------\u001b[0m",
      "\u001b[1;31mAttributeError\u001b[0m                            Traceback (most recent call last)",
      "Cell \u001b[1;32mIn[62], line 5\u001b[0m\n\u001b[0;32m      1\u001b[0m matrix \u001b[38;5;241m=\u001b[39m np\u001b[38;5;241m.\u001b[39marray([[\u001b[38;5;241m2\u001b[39m, \u001b[38;5;241m1\u001b[39m, \u001b[38;5;241m-\u001b[39m\u001b[38;5;241m1\u001b[39m],\n\u001b[0;32m      2\u001b[0m               [\u001b[38;5;241m-\u001b[39m\u001b[38;5;241m3\u001b[39m, \u001b[38;5;241m-\u001b[39m\u001b[38;5;241m1\u001b[39m, \u001b[38;5;241m2\u001b[39m],\n\u001b[0;32m      3\u001b[0m               [\u001b[38;5;241m-\u001b[39m\u001b[38;5;241m2\u001b[39m, \u001b[38;5;241m1\u001b[39m, \u001b[38;5;241m2\u001b[39m]])\n\u001b[0;32m      4\u001b[0m \u001b[38;5;28mprint\u001b[39m(matrix)\n\u001b[1;32m----> 5\u001b[0m P, L, U \u001b[38;5;241m=\u001b[39m \u001b[43mnp\u001b[49m\u001b[38;5;241;43m.\u001b[39;49m\u001b[43mlinalg\u001b[49m\u001b[38;5;241;43m.\u001b[39;49m\u001b[43mlu\u001b[49m(A)\n\u001b[0;32m      7\u001b[0m \u001b[38;5;28mprint\u001b[39m(\u001b[38;5;124m\"\u001b[39m\u001b[38;5;124mMatrix L (Lower triangular matrix):\u001b[39m\u001b[38;5;130;01m\\n\u001b[39;00m\u001b[38;5;124m\"\u001b[39m, L)\n\u001b[0;32m      8\u001b[0m \u001b[38;5;28mprint\u001b[39m(\u001b[38;5;124m\"\u001b[39m\u001b[38;5;124mMatrix U (Upper triangular matrix):\u001b[39m\u001b[38;5;130;01m\\n\u001b[39;00m\u001b[38;5;124m\"\u001b[39m, U)\n",
      "\u001b[1;31mAttributeError\u001b[0m: module 'numpy.linalg' has no attribute 'lu'"
     ]
    }
   ],
   "source": [
    "matrix = np.array([[2, 1, -1],\n",
    "              [-3, -1, 2],\n",
    "              [-2, 1, 2]])\n",
    "print(matrix)\n",
    "P, L, U = np.linalg.lu(A)\n",
    "\n",
    "print(\"Matrix L (Lower triangular matrix):\\n\", L)\n",
    "print(\"Matrix U (Upper triangular matrix):\\n\", U)\n"
   ]
  },
  {
   "cell_type": "code",
   "execution_count": 63,
   "id": "c4ddc99f-711e-402a-8273-794d204a21d2",
   "metadata": {},
   "outputs": [
    {
     "name": "stdout",
     "output_type": "stream",
     "text": [
      "Matrix Q (Orthogonal matrix):\n",
      " [[-0.48507125  0.41166465  0.77151675]\n",
      " [ 0.72760688 -0.29939248  0.6172134 ]\n",
      " [ 0.48507125  0.86075337 -0.15430335]]\n",
      "Matrix R (Upper triangular matrix):\n",
      " [[-4.12310563 -0.72760688  2.9104275 ]\n",
      " [ 0.          1.5718105   0.71105713]\n",
      " [ 0.          0.          0.15430335]]\n"
     ]
    }
   ],
   "source": [
    "Q, R = np.linalg.qr(matrix)\n",
    "\n",
    "print(\"Matrix Q (Orthogonal matrix):\\n\", Q)\n",
    "print(\"Matrix R (Upper triangular matrix):\\n\", R)"
   ]
  },
  {
   "cell_type": "markdown",
   "id": "01456ab1-0425-4861-b629-712445dc9383",
   "metadata": {},
   "source": [
    "Eigenvalues and Eigenvectors:\n",
    "Eigenvalues: For a square matrix \n",
    "𝐴\n",
    "A, an eigenvalue \n",
    "𝜆\n",
    "λ and its corresponding eigenvector \n",
    "𝑣\n",
    "v satisfy the equation:\n",
    "\n",
    "𝐴\n",
    "𝑣\n",
    "=\n",
    "𝜆\n",
    "𝑣\n",
    "Av=λv\n",
    "Here, \n",
    "𝑣\n",
    "v is the eigenvector and \n",
    "𝜆\n",
    "λ is the eigenvalue associated with that eigenvector.\n",
    "\n",
    "Eigenvectors: Eigenvectors are non-zero vectors that only change in magnitude (scale) when a linear transformation (represented by matrix \n",
    "𝐴\n",
    "A) is applied to them. They point in the direction of greatest elongation or compression by the transformation."
   ]
  },
  {
   "cell_type": "code",
   "execution_count": 69,
   "id": "61a00444-d1b4-40d3-ab6b-7a845ef8fe24",
   "metadata": {},
   "outputs": [
    {
     "name": "stdout",
     "output_type": "stream",
     "text": [
      "[[84 37 83]\n",
      " [49 80 34]\n",
      " [14 87 50]]\n",
      "Eigenvalues:\n",
      " [170.82722898 +0.j          21.58638551+33.85178163j\n",
      "  21.58638551-33.85178163j]\n",
      "Eigenvectors:\n",
      " [[ 0.68788164+0.j          0.69448871+0.j          0.69448871-0.j        ]\n",
      " [ 0.54888194+0.j         -0.12526985-0.32066678j -0.12526985+0.32066678j]\n",
      " [ 0.47491838+0.j         -0.46639236+0.426197j   -0.46639236-0.426197j  ]]\n"
     ]
    }
   ],
   "source": [
    "matrix = np.random.randint(10,90,(3,3))\n",
    "print(matrix)\n",
    "\n",
    "\n",
    "eigenvalues, eigenvectors = np.linalg.eig(matrix)\n",
    "\n",
    "print(\"Eigenvalues:\\n\", eigenvalues)\n",
    "print(\"Eigenvectors:\\n\", eigenvectors)"
   ]
  },
  {
   "cell_type": "code",
   "execution_count": 70,
   "id": "04200f48-58c7-4107-9fba-2eb8bb6c0e30",
   "metadata": {},
   "outputs": [
    {
     "name": "stdout",
     "output_type": "stream",
     "text": [
      "Original Matrix :\n",
      " [[ 2  1 -1]\n",
      " [-3 -1  2]\n",
      " [-2  1  2]]\n",
      "Reconstructed Matrix :\n",
      " [[84.-5.04497848e-16j 37.+1.65810223e-15j 83.-1.62669033e-14j]\n",
      " [49.+1.22193400e-15j 80.-1.57632905e-15j 34.-1.49734295e-14j]\n",
      " [14.+4.58350737e-16j 87.-1.42744316e-16j 50.-1.46049309e-14j]]\n"
     ]
    }
   ],
   "source": [
    "\n",
    "Lambda = np.diag(eigenvalues) \n",
    "V = eigenvectors               \n",
    "\n",
    "reconstructed_matrix = V @ Lambda @ np.linalg.inv(V)\n",
    "\n",
    "print(\"Original Matrix :\\n\", A)\n",
    "print(\"Reconstructed Matrix :\\n\", reconstructed_matrix)"
   ]
  },
  {
   "cell_type": "code",
   "execution_count": 71,
   "id": "ac5c828d-3b5c-4efc-bc4b-fbc44de7104a",
   "metadata": {},
   "outputs": [
    {
     "name": "stdout",
     "output_type": "stream",
     "text": [
      "Vector 3: [1 7 8]\n",
      "Vector 4: [0 9 9]\n",
      "Cross Product: [-9 -9  9]\n"
     ]
    }
   ],
   "source": [
    "#Vector Operations\n",
    "# Perform basic vector operations (addition, dot product, cross product).\n",
    "# Normalize a vector and compute vector norms.\n",
    "\n",
    "\n",
    "v3 = np.array([1, 7, 8])\n",
    "v4 = np.array([0, 9, 9])\n",
    "\n",
    "# Cross product of vectors\n",
    "cross_product = np.cross(v3, v4)\n",
    "\n",
    "print(\"Vector 3:\", v3)\n",
    "print(\"Vector 4:\", v4)\n",
    "print(\"Cross Product:\", cross_product)"
   ]
  },
  {
   "cell_type": "code",
   "execution_count": 72,
   "id": "f4018f8e-d0a3-4346-b285-a8dcc16a4dad",
   "metadata": {},
   "outputs": [
    {
     "name": "stdout",
     "output_type": "stream",
     "text": [
      "Vector 5: [6 4 0]\n",
      "Normalized Vector 5: [0.83205029 0.5547002  0.        ]\n"
     ]
    }
   ],
   "source": [
    "v5 = np.array([6, 4, 0])\n",
    "\n",
    "\n",
    "norm_v5 = np.linalg.norm(v5)  \n",
    "normalized_v5 = v5 / norm_v5  \n",
    "\n",
    "print(\"Vector 5:\", v5)\n",
    "print(\"Normalized Vector 5:\", normalized_v5)"
   ]
  },
  {
   "cell_type": "code",
   "execution_count": 74,
   "id": "eb94a66d-abe9-450f-82b9-607cabf67884",
   "metadata": {},
   "outputs": [
    {
     "name": "stdout",
     "output_type": "stream",
     "text": [
      "Vector 1: [6 4 0]\n",
      "Norm of Vector 1: 7.211102550927978\n"
     ]
    }
   ],
   "source": [
    "v1= np.array([6, 4, 0])\n",
    "norm_v1 = np.linalg.norm(v1)\n",
    "\n",
    "print(\"Vector 1:\", v1)\n",
    "print(\"Norm of Vector 1:\", norm_v1)"
   ]
  },
  {
   "cell_type": "code",
   "execution_count": 78,
   "id": "3aea33b6-f17d-4a0f-9ed3-65f57926663f",
   "metadata": {},
   "outputs": [
    {
     "name": "stdout",
     "output_type": "stream",
     "text": [
      "Original Data X:\n",
      " [[5 4 5]\n",
      " [3 5 2]\n",
      " [2 9 3]\n",
      " [9 2 2]]\n",
      "\n",
      "Centered Data:\n",
      " [[ 0.25 -1.    2.  ]\n",
      " [-1.75  0.   -1.  ]\n",
      " [-2.75  4.    0.  ]\n",
      " [ 4.25 -3.   -1.  ]]\n",
      "\n",
      "Principal Components:\n",
      " [[-0.72667751  0.68536982  0.04698939]\n",
      " [-0.12533519 -0.19951955  0.97184517]]\n",
      "\n",
      "Projected Data (Reduced Dimensionality):\n",
      " [[-0.77306041  2.1118761 ]\n",
      " [ 1.22469625 -0.75250859]\n",
      " [ 4.73984244 -0.45340643]\n",
      " [-5.19147828 -0.90596108]]\n"
     ]
    }
   ],
   "source": [
    "# used chatgpt\n",
    "array = np.random.randint(1,10,(4, 3))\n",
    "\n",
    "# Centering the data\n",
    "mean_array = np.mean(array, axis=0)\n",
    "centered_array= array - mean_array\n",
    "\n",
    "\n",
    "U, S, Vt = np.linalg.svd(centered_array)\n",
    "\n",
    "k = 2\n",
    "principal_components = Vt[:k, :]\n",
    "projected_data = np.dot(centered_array, principal_components.T)\n",
    "\n",
    "print(\"Original Data X:\\n\", array)\n",
    "print(\"\\nCentered Data:\\n\", centered_array)\n",
    "print(\"\\nPrincipal Components:\\n\", principal_components)\n",
    "print(\"\\nProjected Data (Reduced Dimensionality):\\n\", projected_data)"
   ]
  },
  {
   "cell_type": "markdown",
   "id": "05b473fe-8955-482e-8555-63a835cdcaae",
   "metadata": {},
   "source": [
    "Calculus Tasks\n",
    "1. Numerical Differentiation\n",
    "- Use NumPy to compute the numerical derivative of a given function.\n",
    "- Implement forward, backward, and central difference methods for differentiation.\n"
   ]
  },
  {
   "cell_type": "code",
   "execution_count": 81,
   "id": "51d7e0b8-950e-4cc7-80b6-d03ba26d29f2",
   "metadata": {},
   "outputs": [
    {
     "name": "stdout",
     "output_type": "stream",
     "text": [
      "Array 1: [1 2 3 4]\n",
      "Forward Difference Derivatives (Array 1): [ 100000.  100000.  100000. -300000.]\n",
      "Backward Difference Derivatives (Array 1): [-300000.  100000.  100000.  100000.]\n",
      "Central Difference Derivatives (Array 1): [-100000.  100000.  100000. -100000.]\n",
      "Array 2: [0.1 0.2 0.3 0.4]\n",
      "Forward Difference Derivatives (Array 1): [ 10000.  10000.  10000. -30000.]\n",
      "Backward Difference Derivatives (Array 1): [-30000.  10000.  10000.  10000.]\n",
      "Central Difference Derivatives (Array 1): [-10000.  10000.  10000. -10000.]\n"
     ]
    }
   ],
   "source": [
    "array1 = np.array([1, 2, 3, 4])\n",
    "array2 = np.array([0.1, 0.2, 0.3, 0.4])\n",
    "def forward_difference(x, h=1e-5):\n",
    "    return (np.roll(x, -1) - x) / h\n",
    "\n",
    "def backward_difference(x, h=1e-5):\n",
    "    return (x - np.roll(x, 1)) / h\n",
    "\n",
    "def central_difference(x, h=1e-5):\n",
    "    return (np.roll(x, -1) - np.roll(x, 1)) / (2 * h)\n",
    "\n",
    "forward1 = forward_difference(array1)\n",
    "backward1 = backward_difference(array1)\n",
    "central1 = central_difference(array1)\n",
    "forward2 = forward_difference(array2)\n",
    "backward2 = backward_difference(array2)\n",
    "central2 = central_difference(array2)\n",
    "print(\"Array 1:\", array1)\n",
    "print(\"Forward Difference Derivatives (Array 1):\", forward1)\n",
    "print(\"Backward Difference Derivatives (Array 1):\", backward1)\n",
    "print(\"Central Difference Derivatives (Array 1):\", central1)\n",
    "print(\"Array 2:\", array2)\n",
    "print(\"Forward Difference Derivatives (Array 1):\", forward2)\n",
    "print(\"Backward Difference Derivatives (Array 1):\", backward2)\n",
    "print(\"Central Difference Derivatives (Array 1):\", central2)\n"
   ]
  },
  {
   "cell_type": "code",
   "execution_count": 83,
   "id": "5602d5e9-3150-4fb7-b0b4-825496f31422",
   "metadata": {},
   "outputs": [],
   "source": [
    "def f(x):\n",
    "    return x**2\n"
   ]
  },
  {
   "cell_type": "code",
   "execution_count": 85,
   "id": "2bee75a8-4a3e-4e84-a3bb-4771b91782c1",
   "metadata": {},
   "outputs": [
    {
     "name": "stdout",
     "output_type": "stream",
     "text": [
      "Integral using Trapezoidal Rule: 0.33300016683350014\n",
      "Integral using Simpson's Rule: 0.33233400166866833\n"
     ]
    }
   ],
   "source": [
    "a = 0  # setting integration limits\n",
    "b = 1\n",
    "N = 1000# integration points/higher; the better the accuracy\n",
    "def trapezoidal_rule(f, a, b, N):\n",
    "    x = np.linspace(a, b, N)\n",
    "    y = f(x)\n",
    "    h = (b - a) / N\n",
    "    integral = h * (np.sum(y) - 0.5 * (y[0] + y[-1]))\n",
    "    return integral\n",
    "\n",
    "def simpsons_rule(f, a, b, N):\n",
    "    x = np.linspace(a, b, N)\n",
    "    y = f(x)\n",
    "    h = (b - a) / (N - 1)\n",
    "    integral = h/3 * (y[0] + 4*np.sum(y[1:N-1:2]) + 2*np.sum(y[2:N-2:2]) + y[N-1])\n",
    "    return integral\n",
    "\n",
    "# Trapezoidal Rule\n",
    "integral_trap = trapezoidal_rule(f, a, b, N)\n",
    "print(\"Integral using Trapezoidal Rule:\", integral_trap)\n",
    "\n",
    "# Simpson's Rule\n",
    "integral_simpson = simpsons_rule(f, a, b, N)\n",
    "print(\"Integral using Simpson's Rule:\", integral_simpson)\n",
    "\n"
   ]
  },
  {
   "cell_type": "markdown",
   "id": "08339d6c-c79b-49a0-ae96-901f4ad200e9",
   "metadata": {},
   "source": [
    "1. Partial Derivatives\n",
    "- Basics:\n",
    "- Partial derivatives involve calculating the rate of change of a function with respect to one of its variables, while keeping the other variables constant."
   ]
  },
  {
   "cell_type": "code",
   "execution_count": 88,
   "id": "cefd7eb0-f7c5-4384-9de1-ebca0193632c",
   "metadata": {},
   "outputs": [],
   "source": [
    "def f(x, y):\n",
    "    return x**2 + 2*y"
   ]
  },
  {
   "cell_type": "code",
   "execution_count": 89,
   "id": "1de03e3e-5598-4120-ae32-ac73a5cf7159",
   "metadata": {},
   "outputs": [
    {
     "name": "stdout",
     "output_type": "stream",
     "text": [
      "Partial derivative with respect to x: nan\n",
      "Partial derivative with respect to y: nan\n"
     ]
    }
   ],
   "source": [
    "x0, y0 = 1, 2  \n",
    "\n",
    "\n",
    "df_dx = np.gradient(f(np.array([x0, x0]), np.array([y0, y0])), np.array([x0, x0]))\n",
    "df_dy = np.gradient(f(np.array([x0, x0]), np.array([y0, y0])), np.array([y0, y0]))\n",
    "\n",
    "print(\"Partial derivative with respect to x:\", df_dx[0])\n",
    "print(\"Partial derivative with respect to y:\", df_dy[1])"
   ]
  },
  {
   "cell_type": "code",
   "execution_count": null,
   "id": "7318e99a-ec4b-4146-9846-96c24f6259f1",
   "metadata": {},
   "outputs": [],
   "source": [
    "def objective(x, y):\n",
    "    return x**2 + y**2\n",
    "\n",
    "# Example constraint: g(x, y) = x + y - 1 <= 0\n",
    "def constraint(x, y):\n",
    "    return x + y - 1"
   ]
  }
 ],
 "metadata": {
  "kernelspec": {
   "display_name": "Python 3 (ipykernel)",
   "language": "python",
   "name": "python3"
  },
  "language_info": {
   "codemirror_mode": {
    "name": "ipython",
    "version": 3
   },
   "file_extension": ".py",
   "mimetype": "text/x-python",
   "name": "python",
   "nbconvert_exporter": "python",
   "pygments_lexer": "ipython3",
   "version": "3.12.4"
  }
 },
 "nbformat": 4,
 "nbformat_minor": 5
}
