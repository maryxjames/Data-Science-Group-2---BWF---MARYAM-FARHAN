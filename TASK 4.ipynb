{
 "cells": [
  {
   "cell_type": "markdown",
   "id": "bc9e8db8-5575-4c78-8160-d8806e25ba36",
   "metadata": {},
   "source": [
    "# Bytewise fellowship"
   ]
  },
  {
   "cell_type": "markdown",
   "id": "6f935673-00ec-493b-9ad2-547d5a2acb19",
   "metadata": {},
   "source": [
    "## 1.0: Calculator"
   ]
  },
  {
   "cell_type": "code",
   "execution_count": 3,
   "id": "3d851bba-6e2e-4bad-9217-9826df797a5d",
   "metadata": {},
   "outputs": [
    {
     "name": "stdin",
     "output_type": "stream",
     "text": [
      "enter number 1:  67\n",
      "enter number 2:  45\n",
      "input your desired operation -\n"
     ]
    },
    {
     "name": "stdout",
     "output_type": "stream",
     "text": [
      "the output is-22\n"
     ]
    }
   ],
   "source": [
    "\n",
    "num1=int(input(\"enter number 1: \"))\n",
    "num2=int(input((\"enter number 2: \")))\n",
    "operation=input(\"input your desired operation\")\n",
    "if operation ==\"+\":\n",
    "    result=num1+num2\n",
    "elif operation == \"-\":\n",
    "    result= num2-num1\n",
    "elif operation == \"*\":\n",
    "    result=num1*num2\n",
    "else:\n",
    "    result=num2/num1\n",
    "\n",
    "print(\"the output is\" + str(result))\n",
    "\n"
   ]
  },
  {
   "cell_type": "markdown",
   "id": "3a9e85f0-a07d-43cc-87d2-b5955b5a170d",
   "metadata": {},
   "source": [
    "# Conitional statements"
   ]
  },
  {
   "cell_type": "code",
   "execution_count": null,
   "id": "3f9c2c4f-7a0d-450c-b839-42e13600dc64",
   "metadata": {},
   "outputs": [],
   "source": [
    "\n"
   ]
  }
 ],
 "metadata": {
  "kernelspec": {
   "display_name": "Python 3 (ipykernel)",
   "language": "python",
   "name": "python3"
  },
  "language_info": {
   "codemirror_mode": {
    "name": "ipython",
    "version": 3
   },
   "file_extension": ".py",
   "mimetype": "text/x-python",
   "name": "python",
   "nbconvert_exporter": "python",
   "pygments_lexer": "ipython3",
   "version": "3.12.4"
  }
 },
 "nbformat": 4,
 "nbformat_minor": 5
}
