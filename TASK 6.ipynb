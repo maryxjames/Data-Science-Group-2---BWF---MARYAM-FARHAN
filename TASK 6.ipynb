{
 "cells": [
  {
   "cell_type": "markdown",
   "id": "2a5566a3-5bf5-42ea-b842-b47bab3f6add",
   "metadata": {},
   "source": [
    "# File Handling"
   ]
  },
  {
   "cell_type": "code",
   "execution_count": 9,
   "id": "3e6d580c-471f-4bae-9afd-6e9c000ed8bb",
   "metadata": {},
   "outputs": [],
   "source": [
    "# create a new file\n",
    "file= open(\"student_file.txt\" , 'x')\n"
   ]
  },
  {
   "cell_type": "code",
   "execution_count": 10,
   "id": "01643a31-85cb-43ce-bc65-3fbaf34e6920",
   "metadata": {},
   "outputs": [
    {
     "name": "stdout",
     "output_type": "stream",
     "text": [
      "\n"
     ]
    }
   ],
   "source": [
    "file=open(\"student_file.txt\", \"r\")\n",
    "print(file.read())\n",
    "file.close()"
   ]
  },
  {
   "cell_type": "code",
   "execution_count": 11,
   "id": "b0069ba1-4b91-40f4-8d0b-c745b1a76ba3",
   "metadata": {},
   "outputs": [],
   "source": [
    "file=open(\"student_file.txt\" , \"w\")\n",
    "data= \"\"\"StudentID, Name, Age, Grade, Email\n",
    "101, Ahmed Khan, 20, A, ahmed.khan@example.com\n",
    "102, Fatima Ali, 22, B, fatima.ali@example.com\n",
    "103, Ayesha Shah, 21, A-, ayesha.shah@example.com\n",
    "104, Hassan Raza, 23, B+, hassan.raza@example.com\n",
    "105, Zara Ahmed, 19, A, zara.ahmed@example.com\"\"\"\n",
    "file.write(data)\n",
    "file.close()"
   ]
  },
  {
   "cell_type": "code",
   "execution_count": 12,
   "id": "4f3ffa4f-6d9c-4b31-98d6-3211a7e1e1c6",
   "metadata": {},
   "outputs": [
    {
     "name": "stdout",
     "output_type": "stream",
     "text": [
      "StudentID, Name, Age, Grade, Email\n",
      "101, Ahmed Khan, 20, A, ahmed.khan@example.com\n",
      "102, Fatima Ali, 22, B, fatima.ali@example.com\n",
      "103, Ayesha Shah, 21, A-, ayesha.shah@example.com\n",
      "104, Hassan Raza, 23, B+, hassan.raza@example.com\n",
      "105, Zara Ahmed, 19, A, zara.ahmed@example.com\n"
     ]
    }
   ],
   "source": [
    "file=open(\"student_file.txt\", \"r\")\n",
    "print(file.read())\n",
    "file.close()"
   ]
  },
  {
   "cell_type": "code",
   "execution_count": 13,
   "id": "0ac19a8b-ddd1-4535-ab92-ee7a7c67e38d",
   "metadata": {},
   "outputs": [
    {
     "data": {
      "text/plain": [
       "'StudentID, Name, Age, Grade, Email\\n'"
      ]
     },
     "execution_count": 13,
     "metadata": {},
     "output_type": "execute_result"
    }
   ],
   "source": [
    "file=open(\"student_file.txt\", \"r\")\n",
    "file.readline()"
   ]
  },
  {
   "cell_type": "code",
   "execution_count": 14,
   "id": "7d7a2b9c-c601-4c92-a33e-7da1799dd01f",
   "metadata": {},
   "outputs": [
    {
     "name": "stdout",
     "output_type": "stream",
     "text": [
      "StudentID, Name, Age, Grade, Email\n",
      "\n",
      "101, Ahmed Khan, 20, A, ahmed.khan@example.com\n",
      "\n",
      "102, Fatima Ali, 22, B, fatima.ali@example.com\n",
      "\n",
      "103, Ayesha Shah, 21, A-, ayesha.shah@example.com\n",
      "\n",
      "104, Hassan Raza, 23, B+, hassan.raza@example.com\n",
      "\n",
      "105, Zara Ahmed, 19, A, zara.ahmed@example.com\n"
     ]
    }
   ],
   "source": [
    "file=open(\"student_file.txt\", \"r\")\n",
    "for x in file:\n",
    "    print(x)"
   ]
  },
  {
   "cell_type": "code",
   "execution_count": 15,
   "id": "35ddb65f-75ba-4acd-99c3-70f8c0cc44ba",
   "metadata": {},
   "outputs": [],
   "source": [
    "file=open(\"student_file.txt\", \"a\")\n",
    "data_2= \"\\n106, Mahrukh Hafeez, 20, A+, mahrukh6777@example.com\"\n",
    "file.write(data_2)\n",
    "file.close()"
   ]
  },
  {
   "cell_type": "code",
   "execution_count": 8,
   "id": "e2d50c95-9583-4f22-bde2-978274301c32",
   "metadata": {},
   "outputs": [
    {
     "name": "stdout",
     "output_type": "stream",
     "text": [
      "StudentID, Name, Age, Grade, Email\n",
      "\n",
      "101, Ahmed Khan, 20, A, ahmed.khan@example.com\n",
      "\n",
      "102, Fatima Ali, 22, B, fatima.ali@example.com\n",
      "\n",
      "103, Ayesha Shah, 21, A-, ayesha.shah@example.com\n",
      "\n",
      "104, Hassan Raza, 23, B+, hassan.raza@example.com\n",
      "\n",
      "105, Zara Ahmed, 19, A, zara.ahmed@example.com\n",
      "\n",
      "106, Mahrukh Hafeez, 20, A+, mahrukh6777@example.com\n"
     ]
    }
   ],
   "source": [
    "file=open(\"student_file.txt\", \"r\")\n",
    "for x in file:\n",
    "    print(x)\n",
    "file.close()"
   ]
  },
  {
   "cell_type": "code",
   "execution_count": 26,
   "id": "ff601942-21d7-477f-8fde-bec5a7d1f93c",
   "metadata": {},
   "outputs": [
    {
     "name": "stdout",
     "output_type": "stream",
     "text": [
      "StudentID\n"
     ]
    }
   ],
   "source": [
    "file=open(\"student_file.txt\",\"r\")\n",
    "primary_key=file.read(9)\n",
    "print(primary_key)\n"
   ]
  },
  {
   "cell_type": "code",
   "execution_count": 37,
   "id": "b4f8a05b-7b73-4b89-9ae6-81eeae3f575a",
   "metadata": {},
   "outputs": [
    {
     "name": "stdout",
     "output_type": "stream",
     "text": [
      "Student id is 101\n",
      "101, Ahmed Khan, 20, A, ahmed.khan@example.com\n",
      "Student id is 102\n",
      "101, Ahmed Khan, 20, A, ahmed.khan@example.com\n",
      "102, Fatima Ali, 22, B, fatima.ali@example.com\n",
      "Student id is 103\n",
      "101, Ahmed Khan, 20, A, ahmed.khan@example.com\n",
      "102, Fatima Ali, 22, B, fatima.ali@example.com\n",
      "103, Ayesha Shah, 21, A-, ayesha.shah@example.com\n",
      "Student id is 104\n",
      "101, Ahmed Khan, 20, A, ahmed.khan@example.com\n",
      "102, Fatima Ali, 22, B, fatima.ali@example.com\n",
      "103, Ayesha Shah, 21, A-, ayesha.shah@example.com\n",
      "104, Hassan Raza, 23, B+, hassan.raza@example.com\n",
      "Student id is 105\n",
      "101, Ahmed Khan, 20, A, ahmed.khan@example.com\n",
      "102, Fatima Ali, 22, B, fatima.ali@example.com\n",
      "103, Ayesha Shah, 21, A-, ayesha.shah@example.com\n",
      "104, Hassan Raza, 23, B+, hassan.raza@example.com\n",
      "105, Zara Ahmed, 19, A, zara.ahmed@example.com\n",
      "Student id is 106\n",
      "101, Ahmed Khan, 20, A, ahmed.khan@example.com\n",
      "102, Fatima Ali, 22, B, fatima.ali@example.com\n",
      "103, Ayesha Shah, 21, A-, ayesha.shah@example.com\n",
      "104, Hassan Raza, 23, B+, hassan.raza@example.com\n",
      "105, Zara Ahmed, 19, A, zara.ahmed@example.com\n",
      "106, Mahrukh Hafeez, 20, A+, mahrukh6777@example.com\n",
      "the student id is\n",
      "['101, Ahmed Khan, 20, A, ahmed.khan@example.com', '102, Fatima Ali, 22, B, fatima.ali@example.com', '103, Ayesha Shah, 21, A-, ayesha.shah@example.com', '104, Hassan Raza, 23, B+, hassan.raza@example.com', '105, Zara Ahmed, 19, A, zara.ahmed@example.com', '106, Mahrukh Hafeez, 20, A+, mahrukh6777@example.com']\n"
     ]
    }
   ],
   "source": [
    "\n",
    "# used chat gpt to understand this\n",
    "\n",
    "file=open(\"student_file.txt\",\"r\")\n",
    "header= file.readline()\n",
    "\n",
    "studentlist=[]\n",
    "\n",
    "for line in file:\n",
    "    line=line.strip()\n",
    "    commas=line.find(\",\")\n",
    "    \n",
    "    data=line[:commas]\n",
    "    \n",
    "    print(\"Student id is \" +data)\n",
    "    studentlist.append(line)\n",
    "    for detail in studentlist:\n",
    "        print(detail)\n",
    "print( \"the student id is\")    \n",
    "print(studentlist)\n",
    "file.close()\n",
    "\n",
    "\n"
   ]
  },
  {
   "cell_type": "code",
   "execution_count": null,
   "id": "19511191-0e0c-4b6d-9f8c-4a602f598633",
   "metadata": {},
   "outputs": [],
   "source": []
  }
 ],
 "metadata": {
  "kernelspec": {
   "display_name": "Python 3 (ipykernel)",
   "language": "python",
   "name": "python3"
  },
  "language_info": {
   "codemirror_mode": {
    "name": "ipython",
    "version": 3
   },
   "file_extension": ".py",
   "mimetype": "text/x-python",
   "name": "python",
   "nbconvert_exporter": "python",
   "pygments_lexer": "ipython3",
   "version": "3.12.4"
  }
 },
 "nbformat": 4,
 "nbformat_minor": 5
}
