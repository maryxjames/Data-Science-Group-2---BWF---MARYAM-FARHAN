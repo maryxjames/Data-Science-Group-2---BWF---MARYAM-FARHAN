{
 "cells": [
  {
   "cell_type": "markdown",
   "id": "0cc9313b-2d13-4606-b0f9-6571db65fac2",
   "metadata": {},
   "source": [
    "# Task 7: Object-Oriented Programming (OOP) basics. \n"
   ]
  },
  {
   "cell_type": "code",
   "execution_count": 44,
   "id": "349d7847-5844-4f1c-a939-de64a0ef8a1a",
   "metadata": {},
   "outputs": [
    {
     "name": "stdout",
     "output_type": "stream",
     "text": [
      "a little life\n",
      "hanya\n",
      "90678900\n",
      "borrowed\n"
     ]
    }
   ],
   "source": [
    "class Book: #class name is always captalized\n",
    "    def __init__(self, title, author, ISBN,STATUS): #self is the referenece to the objects\n",
    "        self.title = title\n",
    "        self.author = author\n",
    "        self.ISBN = ISBN\n",
    "        self.STATUS = STATUS\n",
    "    def get_STATUS(self):\n",
    "        return self.STATUS\n",
    "book1= Book(\"a little life\", \"hanya\", 90678900, \"borrowed\")\n",
    "print(book1.title)\n",
    "print(book1.author)\n",
    "print(book1.ISBN)\n",
    "print(book1.get_STATUS())\n",
    "    "
   ]
  },
  {
   "cell_type": "code",
   "execution_count": 20,
   "id": "f4f76e3d-663f-4c2a-9353-974cb0260c3a",
   "metadata": {},
   "outputs": [
    {
     "name": "stdout",
     "output_type": "stream",
     "text": [
      "SHAKEEL\n",
      "206\n",
      "A little life\n"
     ]
    }
   ],
   "source": [
    "class Members:\n",
    "    def __init__(self,NAME,MEMBER_ID, borrowed_list):\n",
    "        self.NAME= NAME # obj-instance> class_instance in precedence\n",
    "        self.MEMBER_ID= MEMBER_ID\n",
    "        self.borrowed_list=borrowed_list\n",
    "m1=Members(\"SHAKEEL\", 206, \"A little life\" )\n",
    "print(m1.NAME)\n",
    "print(m1.MEMBER_ID)\n",
    "print(m1.borrowed_list)"
   ]
  },
  {
   "cell_type": "code",
   "execution_count": 22,
   "id": "d77cefff-e128-467c-a055-54bbdd4a91a8",
   "metadata": {},
   "outputs": [],
   "source": [
    "class Library(Book, Members):\n",
    "    pass"
   ]
  },
  {
   "cell_type": "code",
   "execution_count": 40,
   "id": "bd82b0d4-d2e1-4938-bb45-38f99b958f9e",
   "metadata": {},
   "outputs": [],
   "source": [
    "class Member:\n",
    "    library_name=\"karachi library\"\n",
    "    def introduce_self (self):\n",
    "        print(\"Member name is \" + self.name)"
   ]
  },
  {
   "cell_type": "code",
   "execution_count": 41,
   "id": "23867d0d-4261-491b-a4aa-08dd7eb43e58",
   "metadata": {},
   "outputs": [],
   "source": [
    "r1= Member()\n",
    "r1.name= \"malik\"\n",
    "r1.ID = 56\n",
    "r1.dues= \"all paid\"\n",
    "\n",
    "r2= Member()\n",
    "r2.name=\"shahana\"\n",
    "r2.ID=89\n",
    "r2.dues=\"still pending\"\n"
   ]
  },
  {
   "cell_type": "code",
   "execution_count": 42,
   "id": "aaad9956-14c3-4484-ae39-b60c81d1e377",
   "metadata": {},
   "outputs": [
    {
     "name": "stdout",
     "output_type": "stream",
     "text": [
      "Member name is malik\n"
     ]
    }
   ],
   "source": [
    "r1.introduce_self()"
   ]
  },
  {
   "cell_type": "code",
   "execution_count": 43,
   "id": "01f635bb-4979-46b0-b1dd-9f17993f1238",
   "metadata": {},
   "outputs": [
    {
     "name": "stdout",
     "output_type": "stream",
     "text": [
      "Member name is shahana\n",
      "karachi library\n"
     ]
    }
   ],
   "source": [
    "r2.introduce_self()\n",
    "print(r2.library_name)"
   ]
  },
  {
   "cell_type": "markdown",
   "id": "914aca7f-5548-468f-a529-8b1fb3b120fa",
   "metadata": {},
   "source": [
    "## object can store a list of properties as variables(attributes or instant) and some functions(methods)"
   ]
  },
  {
   "cell_type": "markdown",
   "id": "9013f3d5-14f5-4f25-927e-8f6a0461560b",
   "metadata": {},
   "source": [
    "## class is basically a blueprint or a template from objects can be made"
   ]
  },
  {
   "cell_type": "markdown",
   "id": "0f0ce33d-bc7b-439b-bd12-866e675006af",
   "metadata": {},
   "source": [
    "## constructer allows you to create an object from a class and it does set the attributes for itself"
   ]
  },
  {
   "cell_type": "code",
   "execution_count": 1,
   "id": "add69df1-6ed6-4e22-ba76-4919cfd38f31",
   "metadata": {},
   "outputs": [
    {
     "name": "stdout",
     "output_type": "stream",
     "text": [
      "name of the student is:  malik and the avg score is 88.66666666666667\n"
     ]
    }
   ],
   "source": [
    "class Student:\n",
    "    def __init__(self, name, marks):\n",
    "        self.name=name\n",
    "        self.marks=marks\n",
    "    def student_avg(self):\n",
    "        sum=0\n",
    "        for val in self.marks:\n",
    "            sum+=val\n",
    "        print(\"name of the student is:  \" + self.name + \" and the avg score is \" + str(sum/3))\n",
    "\n",
    "\n",
    "s1=Student(\"malik\" , [78,90,98])\n",
    "s1.student_avg()\n",
    "    \n"
   ]
  },
  {
   "cell_type": "code",
   "execution_count": 3,
   "id": "f678ec50-5be3-4697-aa41-ae5d97c46b92",
   "metadata": {},
   "outputs": [
    {
     "name": "stdout",
     "output_type": "stream",
     "text": [
      "let's see if we have any more open spots...\n",
      "yes you can apply\n",
      "the books that are available in this library: a little life,harry potter, mockingbird\n",
      "if this book is not available, add in the library: \n",
      "we need to add shooting star asap\n"
     ]
    }
   ],
   "source": [
    "class Library:\n",
    "    def __init__(self,book_list, member_list, max_members):\n",
    "        \n",
    "        self.book_list=book_list\n",
    "        self.member_list=member_list\n",
    "        self.max_members= max_members\n",
    "    def books(self):\n",
    "        print(\"the books that are available in this library: \"+ \",\"  .join(self.book_list))\n",
    "    \n",
    "    def registration_status(self,member_num):\n",
    "        print(\"let's see if we have any more open spots...\")\n",
    "        self.member_num=member_num\n",
    "        if self.member_num>self.max_members:\n",
    "            print(\"no available spots\")\n",
    "        else:\n",
    "            print(\"yes you can apply\")\n",
    "    def add_books(self,book_name):\n",
    "        print(\"if this book is not available, add in the library: \")\n",
    "        if book_name in self.book_list:\n",
    "            print(\"book already available\")\n",
    "        else:\n",
    "            print(\"we need to add \" + book_name +  \" asap\")\n",
    "            self.book_list.append(book_name)\n",
    "                \n",
    "        \n",
    "        \n",
    "                \n",
    "    \n",
    "            \n",
    "r1=Library([\"a little life\", \"harry potter\" , \" mockingbird\"],[\"shahana\", \"malik\", \"rehan\"], 100)\n",
    "r1.registration_status(91)\n",
    "r1.books()\n",
    "\n",
    "\n",
    "r2=Library([\"a little life\", \"harry potter\" , \" mockingbird\"],[\"shahana\", \"malik\", \"rehan\"], 100)\n",
    "r2.add_books(\"shooting star\")\n",
    "\n",
    "\n",
    "\n",
    "\n",
    "           \n",
    "            "
   ]
  },
  {
   "cell_type": "code",
   "execution_count": 8,
   "id": "d318595a-748d-4e77-8eaa-d62c8ae8bf53",
   "metadata": {},
   "outputs": [
    {
     "name": "stdout",
     "output_type": "stream",
     "text": [
      "no fine, but pls make sure you submit on time\n",
      "the status for member 2: \n",
      "you need to submit a fine\n",
      "fine of 100 RS\n"
     ]
    }
   ],
   "source": [
    "class Member:\n",
    "    def __init__(self,name,age,number,ID,permit_days):\n",
    "        self.name=name\n",
    "        self.age=age\n",
    "        self.number=number\n",
    "        self.ID=ID\n",
    "       \n",
    "        self.permit_days= permit_days\n",
    "    def borrowed_status(self,issue_date, return_date):\n",
    "        days=return_date-issue_date\n",
    "        if days> self.permit_days:\n",
    "            print(\"you need to submit a fine\")\n",
    "            if days> 14:\n",
    "                print(\"fine of 100 RS\")\n",
    "            elif days > 25:\n",
    "                print(\" fine of 200 RS\")\n",
    "            else:\n",
    "                print(\"pls report to the library\")\n",
    "        else:\n",
    "            print(\"no fine, but pls make sure you submit on time\")\n",
    "                \n",
    "m1=Member(\"tony shark\", 79 , 90876445, 567, 12)\n",
    "m1.borrowed_status(9, 17)\n",
    "\n",
    "print(\"the status for member 2: \")\n",
    "m2=Member(\"SHAKEEL\",23, 303082003, 102, 12)\n",
    "m2.borrowed_status(8,27)"
   ]
  },
  {
   "cell_type": "code",
   "execution_count": null,
   "id": "feb38f44-ecb7-44f1-9d2b-f4c86ebe7667",
   "metadata": {},
   "outputs": [],
   "source": []
  },
  {
   "cell_type": "code",
   "execution_count": null,
   "id": "6a6f8f2f-d289-4821-93db-1e09df65c036",
   "metadata": {},
   "outputs": [],
   "source": []
  }
 ],
 "metadata": {
  "kernelspec": {
   "display_name": "Python 3 (ipykernel)",
   "language": "python",
   "name": "python3"
  },
  "language_info": {
   "codemirror_mode": {
    "name": "ipython",
    "version": 3
   },
   "file_extension": ".py",
   "mimetype": "text/x-python",
   "name": "python",
   "nbconvert_exporter": "python",
   "pygments_lexer": "ipython3",
   "version": "3.12.4"
  }
 },
 "nbformat": 4,
 "nbformat_minor": 5
}
