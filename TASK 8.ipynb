{
 "cells": [
  {
   "cell_type": "markdown",
   "id": "932a70dc-c47f-42c7-ab23-5439cf9cb39e",
   "metadata": {},
   "source": [
    "# lists"
   ]
  },
  {
   "cell_type": "code",
   "execution_count": 3,
   "id": "71b39208-af22-43a4-a1a0-a92d1f0b92da",
   "metadata": {},
   "outputs": [
    {
     "name": "stdout",
     "output_type": "stream",
     "text": [
      "mehak\n",
      "<class 'list'>\n",
      "4\n"
     ]
    }
   ],
   "source": [
    "students=['mehak', 'anushka', 'ali', 'muzna']\n",
    "print(students[0])\n",
    "print(type(students))\n",
    "print(len(students))"
   ]
  },
  {
   "cell_type": "code",
   "execution_count": 12,
   "id": "fa089785-6fa8-402e-b150-d50e3b5fa2c2",
   "metadata": {},
   "outputs": [
    {
     "name": "stdout",
     "output_type": "stream",
     "text": [
      "excellent student\n",
      "ayehsa\n"
     ]
    },
    {
     "data": {
      "text/plain": [
       "[12, 'A+']"
      ]
     },
     "execution_count": 12,
     "metadata": {},
     "output_type": "execute_result"
    }
   ],
   "source": [
    "student_2=['mehak', 12, \"A+\", \"excellent student\"] # mutable- lists can change\n",
    "print(student_2[-1])\n",
    "student_2[0]='ayehsa'\n",
    "print(student_2[0])\n",
    "#index slicing\n",
    "student_2[1:3]"
   ]
  },
  {
   "cell_type": "code",
   "execution_count": 20,
   "id": "29b1ae28-a94c-498c-8fe1-07419cff6b49",
   "metadata": {},
   "outputs": [
    {
     "name": "stdout",
     "output_type": "stream",
     "text": [
      "[7, 6, 5, 4, 8, 3, 3]\n"
     ]
    }
   ],
   "source": [
    "# # list method\n",
    "# list.append()//mutate-change\n",
    "# list.sort(asc)\n",
    "# list.sort(reverse=True)(desc)\n",
    "# list.add\n",
    "# list.remove(element)\n",
    "#list.pop(index)\n",
    "list1=[3,7,3,4,5]\n",
    "list1.append(6)\n",
    "list1.sort(reverse=True)\n",
    "list1.insert(4,8) # insert(index, data)\n",
    "print(list1)\n"
   ]
  },
  {
   "cell_type": "code",
   "execution_count": 24,
   "id": "117c7f9b-7ddd-4a2d-b751-075b357df1de",
   "metadata": {},
   "outputs": [
    {
     "ename": "AttributeError",
     "evalue": "'tuple' object has no attribute 'append'",
     "output_type": "error",
     "traceback": [
      "\u001b[1;31m---------------------------------------------------------------------------\u001b[0m",
      "\u001b[1;31mAttributeError\u001b[0m                            Traceback (most recent call last)",
      "Cell \u001b[1;32mIn[24], line 4\u001b[0m\n\u001b[0;32m      2\u001b[0m name\u001b[38;5;241m=\u001b[39m(\u001b[38;5;124m'\u001b[39m\u001b[38;5;124mmaryam\u001b[39m\u001b[38;5;124m'\u001b[39m, \u001b[38;5;124m'\u001b[39m\u001b[38;5;124musman\u001b[39m\u001b[38;5;124m'\u001b[39m, \u001b[38;5;124m'\u001b[39m\u001b[38;5;124mmehak\u001b[39m\u001b[38;5;124m'\u001b[39m)\n\u001b[0;32m      3\u001b[0m name[\u001b[38;5;241m0\u001b[39m]\n\u001b[1;32m----> 4\u001b[0m \u001b[43mname\u001b[49m\u001b[38;5;241;43m.\u001b[39;49m\u001b[43mappend\u001b[49m(\u001b[38;5;124m'\u001b[39m\u001b[38;5;124maliza\u001b[39m\u001b[38;5;124m'\u001b[39m)\n",
      "\u001b[1;31mAttributeError\u001b[0m: 'tuple' object has no attribute 'append'"
     ]
    }
   ],
   "source": [
    "# tuples are immutabe\n",
    "name=('maryam', 'usman', 'mehak')\n",
    "name[0]\n",
    "name.append('aliza')# tuple cannot be modified"
   ]
  },
  {
   "cell_type": "code",
   "execution_count": 54,
   "id": "f18a04b4-22a6-4bc3-8e5b-cc0c5fb68bee",
   "metadata": {},
   "outputs": [
    {
     "name": "stdout",
     "output_type": "stream",
     "text": [
      " lunchbox is expensive\n",
      "{' lunchbox'}\n",
      "{'product_ID': '104', 'product_name': ' lunchbox', 'product_quantity': '13', 'product_price': '2909'}\n",
      "['100', '104', '200', '234', '45', '456', '678']\n"
     ]
    }
   ],
   "source": [
    "products={'product_ID' : '104', 'product_name': ' lunchbox', 'product_quantity':'13', 'product_price': '2909'}\n",
    "product_ID=['100', '456', '200', '104','45', '678', '234']\n",
    "product_ID.sort()\n",
    "products['products_status']='imported'\n",
    "del products ['products_status']\n",
    "price=products['product_price']\n",
    "if int(price)> 1000:\n",
    "    print(products['product_name']  + \" is expensive\")\n",
    "else:\n",
    "    print(\"reasonable\")\n",
    "if int(products['product_quantity'])<=1:\n",
    "    product_2=set()\n",
    "    product_2.add(products['product_name'])\n",
    "\n",
    "\n",
    "print(product_2)\n",
    "\n",
    "print(products)\n",
    "print(product_ID)"
   ]
  },
  {
   "cell_type": "code",
   "execution_count": 67,
   "id": "ed161bcf-1526-4a85-8acd-ea4741e3aa0d",
   "metadata": {
    "scrolled": true
   },
   "outputs": [
    {
     "name": "stdout",
     "output_type": "stream",
     "text": [
      "[{'product_id': '104', 'product_name': ' lunchbox', 'product_quantity': '13', 'product_price': '2909'}, {'product_id': '105', 'product_name': ' pen', 'product_quantity': '10', 'product_price': '50'}, {'product_id': '106', 'product_name': ' book', 'product_quantity': '3', 'product_price': '500'}, {'product_id': '107', 'product_name': ' teddy bear', 'product_quantity': '1', 'product_price': '909'}, {'product_id': '108', 'product_name': ' glitters', 'product_quantity': '5', 'product_price': '45'}]\n",
      "{'product_id': '107', 'product_name': ' teddy bear', 'product_quantity': '1', 'product_price': '909'}\n",
      " lunchbox\n"
     ]
    }
   ],
   "source": [
    "products_list=[{'product_id':'104','product_name': ' lunchbox', 'product_quantity':'13', 'product_price': '2909'},\n",
    "{'product_id':'105','product_name': ' pen', 'product_quantity':'10', 'product_price': '50'},\n",
    "{'product_id':'106','product_name': ' book', 'product_quantity':'3', 'product_price': '500'},\n",
    "{'product_id':'107','product_name': ' teddy bear', 'product_quantity':'1', 'product_price': '909'},\n",
    "{'product_id':'108','product_name': ' glitters', 'product_quantity':'5', 'product_price': '45'}]\n",
    "print(products_list)\n",
    "\n",
    "print(products_list[3])\n",
    "\n",
    "print(products_list[0]['product_name'])\n",
    "\n"
   ]
  },
  {
   "cell_type": "code",
   "execution_count": 8,
   "id": "25bab21d-838e-4a2f-b6d9-0b101ed7452f",
   "metadata": {},
   "outputs": [
    {
     "name": "stdout",
     "output_type": "stream",
     "text": [
      "Sorted Products List:\n",
      "{'product_id': '104', 'product_name': ' lunchbox', 'product_quantity': '13', 'product_price': '2909'}\n",
      "{'product_id': '105', 'product_name': ' pen', 'product_quantity': '10', 'product_price': '50'}\n",
      "{'product_id': '106', 'product_name': ' book', 'product_quantity': '3', 'product_price': '500'}\n",
      "{'product_id': '107', 'product_name': ' teddy bear', 'product_quantity': '1', 'product_price': '909'}\n",
      "{'product_id': '108', 'product_name': ' glitters', 'product_quantity': '5', 'product_price': '45'}\n",
      "{'product_id': '110', 'product_name': ' book', 'product_quantity': '3', 'product_price': '456'}\n",
      "{'product_id': '167', 'product_name': ' bag', 'product_quantity': '1', 'product_price': '2000'}\n",
      "{'product_id': '199', 'product_name': ' furniture', 'product_quantity': '5', 'product_price': '45000'}\n",
      "{'product_id': '201', 'product_name': ' laptop', 'product_quantity': '13', 'product_price': '246890'}\n",
      "{'product_id': '301', 'product_name': ' baloons', 'product_quantity': '10', 'product_price': '76'}\n",
      "\n",
      " expensive products are : \n",
      "[' lunchbox', ' laptop', ' bag', ' furniture']\n",
      "\n",
      " reasonable products are : \n",
      "[' pen', ' book', ' teddy bear', ' glitters', ' baloons', ' book']\n",
      "{' bag', ' teddy bear'}\n"
     ]
    }
   ],
   "source": [
    "products_list=[{'product_id':'104','product_name': ' lunchbox', 'product_quantity':'13', 'product_price': '2909'},\n",
    "{'product_id':'105','product_name': ' pen', 'product_quantity':'10', 'product_price': '50'},\n",
    "{'product_id':'106','product_name': ' book', 'product_quantity':'3', 'product_price': '500'},\n",
    "{'product_id':'107','product_name': ' teddy bear', 'product_quantity':'1', 'product_price': '909'},\n",
    "{'product_id':'108','product_name': ' glitters', 'product_quantity':'5', 'product_price': '45'},\n",
    "{'product_id':'201','product_name': ' laptop', 'product_quantity':'13', 'product_price': '246890'},\n",
    "{'product_id':'301','product_name': ' baloons', 'product_quantity':'10', 'product_price': '76'},\n",
    "{'product_id':'110','product_name': ' book', 'product_quantity':'3', 'product_price': '456'},\n",
    "{'product_id':'167','product_name': ' bag', 'product_quantity':'1', 'product_price': '2000'},\n",
    "{'product_id':'199','product_name': ' furniture', 'product_quantity':'5', 'product_price': '45000'}]\n",
    "items=set()\n",
    "for x in products_list:\n",
    "    \n",
    "    if int(x['product_quantity'])<=1:\n",
    "        \n",
    "        items.add(x['product_name'])\n",
    "expensive=[]\n",
    "reasonable=[]\n",
    "for product in products_list:\n",
    "    if int(product['product_price'])>1000:\n",
    "        expensive.append(product['product_name'])\n",
    "    else:\n",
    "        reasonable.append(product['product_name'])\n",
    "\n",
    "# used chat gpt to understand sorting by the order of the product id:\n",
    "#lambda x:: Defines an anonymous function that takes one argument, x.\n",
    "# int(x['product_id']): The function returns the product_id of x (a dictionary from the list), converted to an integer.\n",
    "\n",
    "sorted_products = sorted(products_list, key=lambda x: int(x['product_id']))\n",
    "\n",
    "print(\"Sorted Products List:\")\n",
    "for product in sorted_products:\n",
    "    print(product)\n",
    "\n",
    "\n",
    "\n",
    "\n",
    "print(\"\\n expensive products are : \")\n",
    "print(expensive)\n",
    "print(\"\\n reasonable products are : \")\n",
    "print(reasonable)                          \n",
    "print(items)"
   ]
  },
  {
   "cell_type": "code",
   "execution_count": null,
   "id": "40f525b7-0f9b-43ed-a266-36e3296553ee",
   "metadata": {},
   "outputs": [],
   "source": []
  }
 ],
 "metadata": {
  "kernelspec": {
   "display_name": "Python 3 (ipykernel)",
   "language": "python",
   "name": "python3"
  },
  "language_info": {
   "codemirror_mode": {
    "name": "ipython",
    "version": 3
   },
   "file_extension": ".py",
   "mimetype": "text/x-python",
   "name": "python",
   "nbconvert_exporter": "python",
   "pygments_lexer": "ipython3",
   "version": "3.12.4"
  }
 },
 "nbformat": 4,
 "nbformat_minor": 5
}
