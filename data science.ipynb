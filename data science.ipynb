{
 "cells": [
  {
   "cell_type": "markdown",
   "id": "dcc306e3-7cc9-409b-bb13-98fad3753ea9",
   "metadata": {},
   "source": [
    "# Bytewise fellowship"
   ]
  },
  {
   "cell_type": "code",
   "execution_count": 2,
   "id": "33cd3952-278d-4639-92d9-c7d138ee405e",
   "metadata": {},
   "outputs": [
    {
     "name": "stdin",
     "output_type": "stream",
     "text": [
      "enter number 1:  56\n",
      "enter number 2:  78\n",
      "input your desired operation *\n"
     ]
    },
    {
     "name": "stdout",
     "output_type": "stream",
     "text": [
      "the output is 4368\n"
     ]
    }
   ],
   "source": [
    "num1=int(input(\"enter number 1: \"))\n",
    "num2=int(input((\"enter number 2: \")))\n",
    "operation=input(\"input your desired operation\")\n",
    "if operation ==\"+\":\n",
    "    result=num1+num2\n",
    "elif operation == \"-\":\n",
    "    result= num2-num1\n",
    "elif operation == \"*\":\n",
    "    result=num1*num2\n",
    "else:\n",
    "    result=num2/num1\n",
    "\n",
    "print(\"the output is \" + str(result))\n"
   ]
  },
  {
   "cell_type": "markdown",
   "id": "b7a3f935-0e2a-4d14-aa8f-53b532a06d3b",
   "metadata": {},
   "source": [
    "# Conditional statements"
   ]
  },
  {
   "cell_type": "code",
   "execution_count": 5,
   "id": "6cafc47e-3953-48b7-9229-780883d97dd3",
   "metadata": {},
   "outputs": [
    {
     "name": "stdin",
     "output_type": "stream",
     "text": [
      "enter a num:  56\n",
      "enter a num:  78\n"
     ]
    },
    {
     "name": "stdout",
     "output_type": "stream",
     "text": [
      "b is greater than a\n"
     ]
    }
   ],
   "source": [
    "a= input(\"enter a num: \")\n",
    "b= input(\"enter a num: \")\n",
    "\n",
    "if a>b:\n",
    "    print(\"a is greater than b\")\n",
    "else:\n",
    "    print(\"b is greater than a\")\n",
    "    "
   ]
  },
  {
   "cell_type": "markdown",
   "id": "7b778538-b605-4079-932c-068f55d2d307",
   "metadata": {},
   "source": [
    "# LOOPS"
   ]
  },
  {
   "cell_type": "code",
   "execution_count": 7,
   "id": "b94a4a24-3b84-4c50-8983-e416ad4c91ea",
   "metadata": {},
   "outputs": [
    {
     "name": "stdout",
     "output_type": "stream",
     "text": [
      "bananas\n",
      "apples\n",
      "oranges\n"
     ]
    }
   ],
   "source": [
    "fruits=[\"bananas\", \"apples\", \"oranges\", \"peaches\"]\n",
    "for x in fruits:\n",
    "    print(x)\n",
    "    if x==\"oranges\":\n",
    "        break"
   ]
  },
  {
   "cell_type": "code",
   "execution_count": 15,
   "id": "e20b5d8f-1a24-43eb-99dd-df078732147d",
   "metadata": {},
   "outputs": [
    {
     "name": "stdout",
     "output_type": "stream",
     "text": [
      "*********\n",
      "*******\n",
      "*****\n",
      "***\n",
      "*\n"
     ]
    }
   ],
   "source": [
    "asterick = 9\n",
    "for i in range(5):\n",
    "    print (\"*\" * asterick)\n",
    "    asterick= asterick-2\n"
   ]
  },
  {
   "cell_type": "code",
   "execution_count": 19,
   "id": "b0988a9c-a880-4d65-859a-4c6b9dbfbe3d",
   "metadata": {},
   "outputs": [
    {
     "name": "stdout",
     "output_type": "stream",
     "text": [
      "*\n",
      "***\n",
      "*****\n",
      "*******\n",
      "*********\n"
     ]
    }
   ],
   "source": [
    "asterick= 1\n",
    "for i in range(5):\n",
    "    print(\"*\" * asterick)\n",
    "    asterick+=2"
   ]
  },
  {
   "cell_type": "code",
   "execution_count": 20,
   "id": "b06ee7d6-c08d-4071-a06e-556991618e16",
   "metadata": {},
   "outputs": [
    {
     "name": "stdout",
     "output_type": "stream",
     "text": [
      "    *\n",
      "   ***\n",
      "  *****\n",
      " *******\n",
      "*********\n"
     ]
    }
   ],
   "source": [
    "asterick=1\n",
    "spaces= \" \"\n",
    "times=4\n",
    "for i in range(5):\n",
    "    print(spaces *times + \"*\" * asterick )\n",
    "    asterick+=2\n",
    "    times=times-1"
   ]
  },
  {
   "cell_type": "code",
   "execution_count": 21,
   "id": "9326e4fc-37eb-4eb0-b655-74e7b31a3129",
   "metadata": {},
   "outputs": [
    {
     "name": "stdout",
     "output_type": "stream",
     "text": [
      "*********\n",
      " *******\n",
      "  *****\n",
      "   ***\n",
      "    *\n"
     ]
    }
   ],
   "source": [
    "asterick=9\n",
    "spaces= \" \"\n",
    "times=0\n",
    "for i in range(5):\n",
    "    print(spaces *times + \"*\" * asterick )\n",
    "    asterick-=2\n",
    "    times=times+1"
   ]
  },
  {
   "cell_type": "code",
   "execution_count": null,
   "id": "0270d604-1e91-4eb0-81d0-11c855ca8e42",
   "metadata": {},
   "outputs": [],
   "source": []
  },
  {
   "cell_type": "code",
   "execution_count": 31,
   "id": "9429d809-f416-464a-ac13-3e35c2a36973",
   "metadata": {},
   "outputs": [
    {
     "name": "stdout",
     "output_type": "stream",
     "text": [
      "    A\n",
      "   A B\n",
      "  A B C\n",
      " A B C D\n",
      "A B C D E\n"
     ]
    }
   ],
   "source": [
    "letter = [\"A\", \"B\", \"C\", \"D\", \"E\" ]\n",
    "max_length= len(letter)\n",
    "times=4\n",
    "\n",
    "for i in range(5):\n",
    "    leading_spaces= \" \" * (times)\n",
    "    line=\" \". join(letter[:i+1])\n",
    "    print(leading_spaces+line)\n",
    "    times=times-1\n"
   ]
  },
  {
   "cell_type": "code",
   "execution_count": 26,
   "id": "d69b6afa-f652-4f64-a1ae-bff739ddf612",
   "metadata": {},
   "outputs": [
    {
     "name": "stdout",
     "output_type": "stream",
     "text": [
      "*\n",
      "**\n",
      "***\n",
      "****\n",
      "*****\n"
     ]
    }
   ],
   "source": [
    "asterick =1\n",
    "for i in range (5):\n",
    "    print(\"*\" * asterick)\n",
    "    asterick+=1"
   ]
  },
  {
   "cell_type": "code",
   "execution_count": 40,
   "id": "212fd8ac-c210-4b2c-85dc-eff923d66b1f",
   "metadata": {},
   "outputs": [
    {
     "name": "stdout",
     "output_type": "stream",
     "text": [
      "A B C D E\n",
      " A B C D\n",
      "  A B C\n",
      "   A B\n",
      "    A\n",
      "     \n"
     ]
    }
   ],
   "source": [
    "letter = [\"A\", \"B\", \"C\", \"D\", \"E\" ]\n",
    "max_length= len(letter)\n",
    "times=0\n",
    "\n",
    "for i in range(max_length,-1,-1):# (start num, stop num , -1 the times it decrement)\n",
    "    leading_spaces= \" \" * (times)\n",
    "    line= \" \".join(letter[:i])\n",
    "    print(leading_spaces+line)\n",
    "    times=times+1"
   ]
  },
  {
   "cell_type": "code",
   "execution_count": 44,
   "id": "f1dad6ee-f6b9-4df9-820f-961165b3abbc",
   "metadata": {},
   "outputs": [
    {
     "name": "stdout",
     "output_type": "stream",
     "text": [
      "1\n",
      "2 3\n",
      "4 5 6\n",
      "7 8 9 10\n",
      "11 12 13 14 15\n"
     ]
    }
   ],
   "source": [
    "num = [\"1\", \"2\" , \"3\", \"4\", \"5\", \"6\", \"7\", \"8\", \"9\", \"10\", \"11\", \"12\", \"13\", \"14\", \"15\"]\n",
    "index=0\n",
    "for i in range(5):\n",
    "    line=\" \".join(num[index:index+i+1])\n",
    "    print(line)\n",
    "    index+=i+1\n",
    "    \n"
   ]
  },
  {
   "cell_type": "code",
   "execution_count": null,
   "id": "3166e09b-8c6a-48ae-b4f3-496119bb4610",
   "metadata": {},
   "outputs": [],
   "source": []
  }
 ],
 "metadata": {
  "kernelspec": {
   "display_name": "Python 3 (ipykernel)",
   "language": "python",
   "name": "python3"
  },
  "language_info": {
   "codemirror_mode": {
    "name": "ipython",
    "version": 3
   },
   "file_extension": ".py",
   "mimetype": "text/x-python",
   "name": "python",
   "nbconvert_exporter": "python",
   "pygments_lexer": "ipython3",
   "version": "3.12.4"
  }
 },
 "nbformat": 4,
 "nbformat_minor": 5
}
